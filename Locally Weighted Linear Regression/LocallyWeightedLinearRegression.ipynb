{
  "nbformat": 4,
  "nbformat_minor": 0,
  "metadata": {
    "colab": {
      "provenance": [],
      "collapsed_sections": []
    },
    "kernelspec": {
      "name": "python3",
      "display_name": "Python 3"
    },
    "language_info": {
      "name": "python"
    }
  },
  "cells": [
    {
      "cell_type": "code",
      "execution_count": 1,
      "metadata": {
        "id": "ypnM8f_TyEyk"
      },
      "outputs": [],
      "source": [
        "import numpy as np\n",
        "import matplotlib.pyplot as plt\n",
        "import sklearn.linear_model\n",
        "from google.colab import files\n",
        "import random\n",
        "from sklearn.model_selection import train_test_split\n",
        "from math import ceil"
      ]
    },
    {
      "cell_type": "markdown",
      "source": [
        "Function for uploading file to Google Colab"
      ],
      "metadata": {
        "id": "rwc3LY4aycqM"
      }
    },
    {
      "cell_type": "code",
      "source": [
        "files.upload()"
      ],
      "metadata": {
        "colab": {
          "base_uri": "https://localhost:8080/",
          "height": 129
        },
        "outputId": "a8a9dede-2638-48e5-e994-1272e71c2891",
        "id": "lQh-N-ADyIRJ"
      },
      "execution_count": 2,
      "outputs": [
        {
          "output_type": "display_data",
          "data": {
            "text/plain": [
              "<IPython.core.display.HTML object>"
            ],
            "text/html": [
              "\n",
              "     <input type=\"file\" id=\"files-19f02488-d781-49fd-8eba-973aeea8b74f\" name=\"files[]\" multiple disabled\n",
              "        style=\"border:none\" />\n",
              "     <output id=\"result-19f02488-d781-49fd-8eba-973aeea8b74f\">\n",
              "      Upload widget is only available when the cell has been executed in the\n",
              "      current browser session. Please rerun this cell to enable.\n",
              "      </output>\n",
              "      <script>// Copyright 2017 Google LLC\n",
              "//\n",
              "// Licensed under the Apache License, Version 2.0 (the \"License\");\n",
              "// you may not use this file except in compliance with the License.\n",
              "// You may obtain a copy of the License at\n",
              "//\n",
              "//      http://www.apache.org/licenses/LICENSE-2.0\n",
              "//\n",
              "// Unless required by applicable law or agreed to in writing, software\n",
              "// distributed under the License is distributed on an \"AS IS\" BASIS,\n",
              "// WITHOUT WARRANTIES OR CONDITIONS OF ANY KIND, either express or implied.\n",
              "// See the License for the specific language governing permissions and\n",
              "// limitations under the License.\n",
              "\n",
              "/**\n",
              " * @fileoverview Helpers for google.colab Python module.\n",
              " */\n",
              "(function(scope) {\n",
              "function span(text, styleAttributes = {}) {\n",
              "  const element = document.createElement('span');\n",
              "  element.textContent = text;\n",
              "  for (const key of Object.keys(styleAttributes)) {\n",
              "    element.style[key] = styleAttributes[key];\n",
              "  }\n",
              "  return element;\n",
              "}\n",
              "\n",
              "// Max number of bytes which will be uploaded at a time.\n",
              "const MAX_PAYLOAD_SIZE = 100 * 1024;\n",
              "\n",
              "function _uploadFiles(inputId, outputId) {\n",
              "  const steps = uploadFilesStep(inputId, outputId);\n",
              "  const outputElement = document.getElementById(outputId);\n",
              "  // Cache steps on the outputElement to make it available for the next call\n",
              "  // to uploadFilesContinue from Python.\n",
              "  outputElement.steps = steps;\n",
              "\n",
              "  return _uploadFilesContinue(outputId);\n",
              "}\n",
              "\n",
              "// This is roughly an async generator (not supported in the browser yet),\n",
              "// where there are multiple asynchronous steps and the Python side is going\n",
              "// to poll for completion of each step.\n",
              "// This uses a Promise to block the python side on completion of each step,\n",
              "// then passes the result of the previous step as the input to the next step.\n",
              "function _uploadFilesContinue(outputId) {\n",
              "  const outputElement = document.getElementById(outputId);\n",
              "  const steps = outputElement.steps;\n",
              "\n",
              "  const next = steps.next(outputElement.lastPromiseValue);\n",
              "  return Promise.resolve(next.value.promise).then((value) => {\n",
              "    // Cache the last promise value to make it available to the next\n",
              "    // step of the generator.\n",
              "    outputElement.lastPromiseValue = value;\n",
              "    return next.value.response;\n",
              "  });\n",
              "}\n",
              "\n",
              "/**\n",
              " * Generator function which is called between each async step of the upload\n",
              " * process.\n",
              " * @param {string} inputId Element ID of the input file picker element.\n",
              " * @param {string} outputId Element ID of the output display.\n",
              " * @return {!Iterable<!Object>} Iterable of next steps.\n",
              " */\n",
              "function* uploadFilesStep(inputId, outputId) {\n",
              "  const inputElement = document.getElementById(inputId);\n",
              "  inputElement.disabled = false;\n",
              "\n",
              "  const outputElement = document.getElementById(outputId);\n",
              "  outputElement.innerHTML = '';\n",
              "\n",
              "  const pickedPromise = new Promise((resolve) => {\n",
              "    inputElement.addEventListener('change', (e) => {\n",
              "      resolve(e.target.files);\n",
              "    });\n",
              "  });\n",
              "\n",
              "  const cancel = document.createElement('button');\n",
              "  inputElement.parentElement.appendChild(cancel);\n",
              "  cancel.textContent = 'Cancel upload';\n",
              "  const cancelPromise = new Promise((resolve) => {\n",
              "    cancel.onclick = () => {\n",
              "      resolve(null);\n",
              "    };\n",
              "  });\n",
              "\n",
              "  // Wait for the user to pick the files.\n",
              "  const files = yield {\n",
              "    promise: Promise.race([pickedPromise, cancelPromise]),\n",
              "    response: {\n",
              "      action: 'starting',\n",
              "    }\n",
              "  };\n",
              "\n",
              "  cancel.remove();\n",
              "\n",
              "  // Disable the input element since further picks are not allowed.\n",
              "  inputElement.disabled = true;\n",
              "\n",
              "  if (!files) {\n",
              "    return {\n",
              "      response: {\n",
              "        action: 'complete',\n",
              "      }\n",
              "    };\n",
              "  }\n",
              "\n",
              "  for (const file of files) {\n",
              "    const li = document.createElement('li');\n",
              "    li.append(span(file.name, {fontWeight: 'bold'}));\n",
              "    li.append(span(\n",
              "        `(${file.type || 'n/a'}) - ${file.size} bytes, ` +\n",
              "        `last modified: ${\n",
              "            file.lastModifiedDate ? file.lastModifiedDate.toLocaleDateString() :\n",
              "                                    'n/a'} - `));\n",
              "    const percent = span('0% done');\n",
              "    li.appendChild(percent);\n",
              "\n",
              "    outputElement.appendChild(li);\n",
              "\n",
              "    const fileDataPromise = new Promise((resolve) => {\n",
              "      const reader = new FileReader();\n",
              "      reader.onload = (e) => {\n",
              "        resolve(e.target.result);\n",
              "      };\n",
              "      reader.readAsArrayBuffer(file);\n",
              "    });\n",
              "    // Wait for the data to be ready.\n",
              "    let fileData = yield {\n",
              "      promise: fileDataPromise,\n",
              "      response: {\n",
              "        action: 'continue',\n",
              "      }\n",
              "    };\n",
              "\n",
              "    // Use a chunked sending to avoid message size limits. See b/62115660.\n",
              "    let position = 0;\n",
              "    do {\n",
              "      const length = Math.min(fileData.byteLength - position, MAX_PAYLOAD_SIZE);\n",
              "      const chunk = new Uint8Array(fileData, position, length);\n",
              "      position += length;\n",
              "\n",
              "      const base64 = btoa(String.fromCharCode.apply(null, chunk));\n",
              "      yield {\n",
              "        response: {\n",
              "          action: 'append',\n",
              "          file: file.name,\n",
              "          data: base64,\n",
              "        },\n",
              "      };\n",
              "\n",
              "      let percentDone = fileData.byteLength === 0 ?\n",
              "          100 :\n",
              "          Math.round((position / fileData.byteLength) * 100);\n",
              "      percent.textContent = `${percentDone}% done`;\n",
              "\n",
              "    } while (position < fileData.byteLength);\n",
              "  }\n",
              "\n",
              "  // All done.\n",
              "  yield {\n",
              "    response: {\n",
              "      action: 'complete',\n",
              "    }\n",
              "  };\n",
              "}\n",
              "\n",
              "scope.google = scope.google || {};\n",
              "scope.google.colab = scope.google.colab || {};\n",
              "scope.google.colab._files = {\n",
              "  _uploadFiles,\n",
              "  _uploadFilesContinue,\n",
              "};\n",
              "})(self);\n",
              "</script> "
            ]
          },
          "metadata": {}
        },
        {
          "output_type": "stream",
          "name": "stdout",
          "text": [
            "Saving x06Simple(1).csv to x06Simple(1) (1).csv\n"
          ]
        },
        {
          "output_type": "execute_result",
          "data": {
            "text/plain": [
              "{'x06Simple(1).csv': b'Index,Age,Temp of Water,Length of Fish\\r\\n1,14,25,620\\r\\n2,28,25,1315\\r\\n3,41,25,2120\\r\\n4,55,25,2600\\r\\n5,69,25,3110\\r\\n6,83,25,3535\\r\\n7,97,25,3935\\r\\n8,111,25,4465\\r\\n9,125,25,4530\\r\\n10,139,25,4570\\r\\n11,153,25,4600\\r\\n12,14,27,625\\r\\n13,28,27,1215\\r\\n14,41,27,2110\\r\\n15,55,27,2805\\r\\n16,69,27,3255\\r\\n17,83,27,4015\\r\\n18,97,27,4315\\r\\n19,111,27,4495\\r\\n20,125,27,4535\\r\\n21,139,27,4600\\r\\n22,153,27,4600\\r\\n23,14,29,590\\r\\n24,28,29,1305\\r\\n25,41,29,2140\\r\\n26,55,29,2890\\r\\n27,69,29,3920\\r\\n28,83,29,3920\\r\\n29,97,29,4515\\r\\n30,111,29,4520\\r\\n31,125,29,4525\\r\\n32,139,29,4565\\r\\n33,153,29,4566\\r\\n34,14,31,590\\r\\n35,28,31,1205\\r\\n36,41,31,1915\\r\\n37,55,31,2140\\r\\n38,69,31,2710\\r\\n39,83,31,3020\\r\\n40,97,31,3030\\r\\n41,111,31,3040\\r\\n42,125,31,3180\\r\\n43,139,31,3257\\r\\n44,153,31,3214\\r\\n'}"
            ]
          },
          "metadata": {},
          "execution_count": 2
        }
      ]
    },
    {
      "cell_type": "markdown",
      "source": [
        "Random number generator, random integer in range, and random shuffle functions"
      ],
      "metadata": {
        "id": "_dUeHF4_yudO"
      }
    },
    {
      "cell_type": "code",
      "source": [
        "#THE RANDOM NUMBER GENERATOR FUNCTION IS BY DEFAULT SEEDED WITH 0 IN THE FUNCTION\n",
        "#DEFINITION\n",
        "def r(seed=[0], m=2**32, a=1664525, c=1013904223):\n",
        "  seed[0] = (a*seed[0]+c)%m\n",
        "  return seed[0]\n",
        "\n",
        "def randint(a, b):\n",
        "  return int(a+(1+b-a)*r()/2**32)\n",
        "\n",
        "def random_shuffle(data):\n",
        "  len_data = data.shape[0]\n",
        "  for i in range(len_data-1,0,-1):\n",
        "    j = randint(0,i+1)\n",
        "    data[[i,j]] = data[[j,i]]\n",
        "  return data"
      ],
      "metadata": {
        "id": "l_sauVr6y3DX"
      },
      "execution_count": 3,
      "outputs": []
    },
    {
      "cell_type": "markdown",
      "source": [
        "Reading the CSV file, skipping the header information, and removing the index column."
      ],
      "metadata": {
        "id": "D_XQ3BvhbTQ3"
      }
    },
    {
      "cell_type": "code",
      "source": [
        "datax06_3 = np.genfromtxt('x06Simple(1).csv', delimiter=',', skip_header=1, dtype=int)\n",
        "datax06_3 = np.delete(datax06_3, 0, 1)\n",
        "datax06_3"
      ],
      "metadata": {
        "id": "OADXDhmybSG6"
      },
      "execution_count": null,
      "outputs": []
    },
    {
      "cell_type": "markdown",
      "source": [
        "Randomizing the data."
      ],
      "metadata": {
        "id": "TUafB5b2b2an"
      }
    },
    {
      "cell_type": "code",
      "source": [
        "datax06_3 = random_shuffle(datax06_3)\n",
        "datax06_3"
      ],
      "metadata": {
        "id": "w0tfgnUdbrVp"
      },
      "execution_count": null,
      "outputs": []
    },
    {
      "cell_type": "markdown",
      "source": [
        "Separating dataset into X and Y variables"
      ],
      "metadata": {
        "id": "AnKalR3scNmN"
      }
    },
    {
      "cell_type": "code",
      "source": [
        "X06_3 = datax06_3[:,:-1]\n",
        "Y06_3 = datax06_3[:,-1]"
      ],
      "metadata": {
        "id": "43MC8qO2cHux"
      },
      "execution_count": 6,
      "outputs": []
    },
    {
      "cell_type": "code",
      "source": [
        "X06_3"
      ],
      "metadata": {
        "id": "ok58qJ0AcfoC"
      },
      "execution_count": null,
      "outputs": []
    },
    {
      "cell_type": "markdown",
      "source": [
        "Splitting the data into training and testing sets on a 2/3 - 1/3 basis with rounding-up."
      ],
      "metadata": {
        "id": "LYZJAO1dcsLe"
      }
    },
    {
      "cell_type": "code",
      "source": [
        "X_train_3 = X06_3[:ceil(2/3*datax06_3.shape[0]),:]\n",
        "X_test_3 = X06_3[ceil(2/3*datax06_3.shape[0]):,:]\n",
        "Y_train_3 = Y06_3[:ceil(2/3*datax06_3.shape[0])]\n",
        "Y_test_3 = Y06_3[ceil(2/3*datax06_3.shape[0]):]"
      ],
      "metadata": {
        "id": "PYIoOLapcnZn"
      },
      "execution_count": 8,
      "outputs": []
    },
    {
      "cell_type": "markdown",
      "source": [
        "Calculating the mean and standard deviation of both features from the training dataset."
      ],
      "metadata": {
        "id": "X4Xj6jvTc7jw"
      }
    },
    {
      "cell_type": "code",
      "source": [
        "X_train_mean_3 = np.mean(X_train_3, axis=0)\n",
        "X_train_std_3 = np.std(X_train_3, axis=0, ddof=1)\n",
        "print(X_train_mean_3, X_train_std_3)"
      ],
      "metadata": {
        "colab": {
          "base_uri": "https://localhost:8080/"
        },
        "id": "IuQP7zrcdC-p",
        "outputId": "6d66ba8d-a0c2-47fb-f375-ca52ea6d0fe0"
      },
      "execution_count": 9,
      "outputs": [
        {
          "output_type": "stream",
          "name": "stdout",
          "text": [
            "[86.         27.73333333] [46.55289909  2.37709375]\n"
          ]
        }
      ]
    },
    {
      "cell_type": "markdown",
      "source": [
        "Standardizing the training and data using the computed mean and standard deviation of training data"
      ],
      "metadata": {
        "id": "DcXaS6G6dJta"
      }
    },
    {
      "cell_type": "code",
      "source": [
        "sX_train_3 = (X_train_3-X_train_mean_3)/X_train_std_3\n",
        "sX_test_3 = (X_test_3-X_train_mean_3)/X_train_std_3"
      ],
      "metadata": {
        "id": "_rYvDzaadOWe"
      },
      "execution_count": 10,
      "outputs": []
    },
    {
      "cell_type": "markdown",
      "source": [
        "Adding the bias feature"
      ],
      "metadata": {
        "id": "ToBIR0-hdp66"
      }
    },
    {
      "cell_type": "code",
      "source": [
        "bias_3 = np.ones((sX_train_3.shape[0],1))\n",
        "bias_sX_train_3 = np.hstack((bias_3, sX_train_3))\n",
        "\n",
        "bias_test_3 = np.ones((sX_test_3.shape[0],1))\n",
        "bias_sX_test_3 = np.hstack((bias_test_3, sX_test_3))"
      ],
      "metadata": {
        "id": "4w0-fcPJdukB"
      },
      "execution_count": 11,
      "outputs": []
    },
    {
      "cell_type": "code",
      "source": [
        "k=1\n",
        "#CREATE EMPTY ARRAY TO APPEND EACH TESTING SAMPLE'S SQUARED ERROR\n",
        "y_se=np.array([])\n",
        "#COUNTER TO KEEP TRACK OF ITERATION NUMBER FOR REFERRENCING ACTUAL TESTING TARGET VALUE\n",
        "y_pred=0\n",
        "for Xtest in bias_sX_test_3:\n",
        "  #INITIALIZE EMPTY WEIGHT MATRIX TO UPDATE WITH DIAGONAL WEIGHTS\n",
        "  W=np.zeros(shape=(bias_sX_train_3.shape[0],bias_sX_train_3.shape[0]))\n",
        "  i=0\n",
        "  for Xtrain in bias_sX_train_3:\n",
        "    #COMPUTE THE DISTANCE (L1) BETWEEN THE TESTING SAMPLE AND EVERY TRAINING SAMPLE\n",
        "    #UPDATE THE DIAGONAL OF THE WEIGHT MATRIX\n",
        "    W[i][i]=np.exp(-np.absolute((np.subtract(Xtrain, Xtest))).sum()/k)\n",
        "    i+=1\n",
        "  #COMPUTE LOCAL THETA FOR THIS OBSERVATION\n",
        "  theta3 = np.linalg.inv(bias_sX_train_3.T @ W @bias_sX_train_3) @ bias_sX_train_3.T @ W @ Y_train_3\n",
        "  #GET PREDICTED Y VALUE\n",
        "  yp = Xtest @ theta3\n",
        "  #COMPUTE SQUARED ERROR FOR TESTING SAMPLE\n",
        "  se=np.square(np.subtract(Y_test_3[y_pred], yp))\n",
        "  #APPEND SQUARED ERROR TO ARRAY\n",
        "  y_se=np.append(y_se,se)\n",
        "  y_pred+=1"
      ],
      "metadata": {
        "id": "Wf_mDqhZswde"
      },
      "execution_count": 12,
      "outputs": []
    },
    {
      "cell_type": "markdown",
      "source": [
        "RMSE of all testing samples"
      ],
      "metadata": {
        "id": "a1R-3HhIoPht"
      }
    },
    {
      "cell_type": "code",
      "source": [
        "y_rmse = np.sqrt(y_se.mean())\n",
        "y_rmse"
      ],
      "metadata": {
        "colab": {
          "base_uri": "https://localhost:8080/"
        },
        "id": "HN5qgDdElbyX",
        "outputId": "39a122dd-8eee-49e5-806f-459e4555b1ae"
      },
      "execution_count": 13,
      "outputs": [
        {
          "output_type": "execute_result",
          "data": {
            "text/plain": [
              "435.32544371752994"
            ]
          },
          "metadata": {},
          "execution_count": 13
        }
      ]
    },
    {
      "cell_type": "markdown",
      "source": [
        "Comparing to closed-form linear regression model."
      ],
      "metadata": {
        "id": "fd2WQSGo718y"
      }
    },
    {
      "cell_type": "code",
      "source": [
        "closedf_3=sklearn.linear_model.LinearRegression().fit(bias_sX_train_3, Y_train_3)\n",
        "print(closedf_3.coef_)\n",
        "print(closedf_3.intercept_)\n",
        "y_pred_3 = closedf_3.predict(bias_sX_test_3)\n",
        "print(np.sqrt(np.square(np.subtract(Y_test_3, y_pred_3)).mean()))"
      ],
      "metadata": {
        "colab": {
          "base_uri": "https://localhost:8080/"
        },
        "id": "TXSP9duI7dXi",
        "outputId": "30dd856b-f152-4697-91c0-ca1596d5019b"
      },
      "execution_count": 14,
      "outputs": [
        {
          "output_type": "stream",
          "name": "stdout",
          "text": [
            "[   0.         1266.6599659  -329.49611507]\n",
            "3126.9\n",
            "616.0862025884471\n"
          ]
        }
      ]
    },
    {
      "cell_type": "markdown",
      "source": [
        "We can see a sizeable decrease in the RMSE of the locally-weighted regression model."
      ],
      "metadata": {
        "id": "Pp3hUNhD75fs"
      }
    }
  ]
}
