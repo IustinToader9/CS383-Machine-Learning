{
  "nbformat": 4,
  "nbformat_minor": 0,
  "metadata": {
    "colab": {
      "provenance": [],
      "collapsed_sections": [
        "9XSVndS_sOfP"
      ]
    },
    "kernelspec": {
      "name": "python3",
      "display_name": "Python 3"
    },
    "language_info": {
      "name": "python"
    }
  },
  "cells": [
    {
      "cell_type": "code",
      "execution_count": 1,
      "metadata": {
        "id": "PwURITGs6lEt"
      },
      "outputs": [],
      "source": [
        "import numpy as np\n",
        "from sklearn.decomposition import PCA\n",
        "from sklearn.model_selection import train_test_split\n",
        "from sklearn.metrics import accuracy_score\n",
        "from sklearn.datasets import fetch_lfw_people\n",
        "import matplotlib.pyplot as plt\n",
        "import matplotlib.cm as cm"
      ]
    },
    {
      "cell_type": "markdown",
      "source": [
        "Own function for computing KNN with k=1"
      ],
      "metadata": {
        "id": "PhUCJ9vVhHuq"
      }
    },
    {
      "cell_type": "code",
      "source": [
        "def my_knn(X_train, y_train, X_test):\n",
        "  y_pred = np.array([[]])\n",
        "  for te_obs in X_test:\n",
        "    min_dist=1e20\n",
        "    for i, (tr_obs, tr_class) in enumerate(zip(X_train, y_train)):\n",
        "      dist = np.sqrt(((te_obs-tr_obs)**2).sum(axis=0))\n",
        "      if dist < min_dist:\n",
        "        min_dist = dist\n",
        "        min_obs = tr_obs\n",
        "        min_class = tr_class\n",
        "        min_i = i\n",
        "    y_pred = np.append(y_pred, min_class)\n",
        "  return y_pred"
      ],
      "metadata": {
        "id": "SgL0cMhRzm_B"
      },
      "execution_count": 2,
      "outputs": []
    },
    {
      "cell_type": "code",
      "source": [
        "people = fetch_lfw_people(min_faces_per_person = 20, resize=0.7)"
      ],
      "metadata": {
        "id": "7QSROVfXtBlA"
      },
      "execution_count": 3,
      "outputs": []
    },
    {
      "cell_type": "code",
      "source": [
        "image_shape = people.images[0].shape\n",
        "image_shape"
      ],
      "metadata": {
        "colab": {
          "base_uri": "https://localhost:8080/"
        },
        "id": "0ZWBKXd7spc3",
        "outputId": "95a8fb94-c3c7-4c96-d400-e584b16ca379"
      },
      "execution_count": 4,
      "outputs": [
        {
          "output_type": "execute_result",
          "data": {
            "text/plain": [
              "(87, 65)"
            ]
          },
          "metadata": {},
          "execution_count": 4
        }
      ]
    },
    {
      "cell_type": "code",
      "source": [
        "people.target_names"
      ],
      "metadata": {
        "id": "Ez-_J_QutzEh"
      },
      "execution_count": null,
      "outputs": []
    },
    {
      "cell_type": "code",
      "source": [
        "fig, axes = plt.subplots(2, 5, figsize=(15,8), subplot_kw={'xticks': (), 'yticks': ()})\n",
        "for target, image, ax in zip(people.target, people.images, axes.ravel()):\n",
        "  ax.imshow(image, cmap=cm.gray)\n",
        "  ax.set_title(people.target_names[target])"
      ],
      "metadata": {
        "id": "BQc6QeEltUKW"
      },
      "execution_count": null,
      "outputs": []
    },
    {
      "cell_type": "code",
      "source": [
        "print(\"people.images.shape: {}\".format(people.images.shape))\n",
        "print(\"Number of classes: {}\".format(len(people.target_names)))"
      ],
      "metadata": {
        "colab": {
          "base_uri": "https://localhost:8080/"
        },
        "id": "MaPJSGN2uAAY",
        "outputId": "e50f785f-8198-401a-d121-b3762cd10f4e"
      },
      "execution_count": 7,
      "outputs": [
        {
          "output_type": "stream",
          "name": "stdout",
          "text": [
            "people.images.shape: (3023, 87, 65)\n",
            "Number of classes: 62\n"
          ]
        }
      ]
    },
    {
      "cell_type": "code",
      "source": [
        "counts = np.bincount(people.target)\n",
        "for i, (count, name) in enumerate(zip(counts, people.target_names)):\n",
        "  print(\"{0:25} {1:3}\".format(name, count), end=' ')\n",
        "  if (i+1)%3 ==0:\n",
        "    print()"
      ],
      "metadata": {
        "id": "qxgKyzxquRJi"
      },
      "execution_count": null,
      "outputs": []
    },
    {
      "cell_type": "code",
      "source": [
        "people.data.shape"
      ],
      "metadata": {
        "colab": {
          "base_uri": "https://localhost:8080/"
        },
        "id": "dxu10jWOxvxg",
        "outputId": "b064386b-595c-4cb1-bcd7-08e5de7adf1c"
      },
      "execution_count": 9,
      "outputs": [
        {
          "output_type": "execute_result",
          "data": {
            "text/plain": [
              "(3023, 5655)"
            ]
          },
          "metadata": {},
          "execution_count": 9
        }
      ]
    },
    {
      "cell_type": "code",
      "source": [
        "mask = np.zeros(people.target.shape, dtype=bool)\n",
        "for target in np.unique(people.target):\n",
        "  mask[np.where(people.target == target)[0][:50]] = 1\n",
        "X_people = people.data[mask]\n",
        "y_people = people.target[mask]\n",
        "X_people = X_people/255"
      ],
      "metadata": {
        "id": "pLB9hZwFu9on"
      },
      "execution_count": 10,
      "outputs": []
    },
    {
      "cell_type": "code",
      "source": [
        "from sklearn.neighbors import KNeighborsClassifier\n",
        "X_train, X_test, y_train, y_test = train_test_split(X_people, y_people, stratify=y_people, random_state=0)\n",
        "knn = KNeighborsClassifier(n_neighbors=1)\n",
        "knn.fit(X_train, y_train)\n",
        "print(\"Test set score of 1-nn: {:.2f}\".format(knn.score(X_test, y_test)))"
      ],
      "metadata": {
        "colab": {
          "base_uri": "https://localhost:8080/"
        },
        "id": "g5q2cEGayg6t",
        "outputId": "da53ead8-26ba-4c5d-9e00-173400fc3250"
      },
      "execution_count": 11,
      "outputs": [
        {
          "output_type": "stream",
          "name": "stdout",
          "text": [
            "Test set score of 1-nn: 0.23\n"
          ]
        }
      ]
    },
    {
      "cell_type": "markdown",
      "source": [
        "Calculates the mean and standard deviation of the dataset"
      ],
      "metadata": {
        "id": "ezJWXHceijc_"
      }
    },
    {
      "cell_type": "code",
      "source": [
        "X_people_mean = np.mean(X_people, axis=0)\n",
        "X_people_std = np.std(X_people, axis=0, ddof=1)"
      ],
      "metadata": {
        "id": "ti34CaIlkDhI"
      },
      "execution_count": 12,
      "outputs": []
    },
    {
      "cell_type": "markdown",
      "source": [
        "Standardizes dataset"
      ],
      "metadata": {
        "id": "HHpoCcuzinfn"
      }
    },
    {
      "cell_type": "code",
      "source": [
        "X_people = (X_people - X_people_mean)/X_people_std"
      ],
      "metadata": {
        "id": "61uvkIYAmpJk"
      },
      "execution_count": 13,
      "outputs": []
    },
    {
      "cell_type": "markdown",
      "source": [
        "Running our own KNN with k=1 function. X_train used is computed in the chunk above. For consistency, we will use unstandardized data to compute our own KNN, like the X_train used for the above KNN computation."
      ],
      "metadata": {
        "id": "7vj-15u8ht-l"
      }
    },
    {
      "cell_type": "code",
      "source": [
        "y_pred = my_knn(X_train, y_train, X_test)"
      ],
      "metadata": {
        "id": "_WHa1-QJ1jKT"
      },
      "execution_count": 14,
      "outputs": []
    },
    {
      "cell_type": "code",
      "source": [
        "accuracy_score(y_pred, y_test)"
      ],
      "metadata": {
        "colab": {
          "base_uri": "https://localhost:8080/"
        },
        "id": "ieVbeNE7j9pV",
        "outputId": "fcf0d2c9-6163-4d6a-dbe9-3a9f91a530da"
      },
      "execution_count": 15,
      "outputs": [
        {
          "output_type": "execute_result",
          "data": {
            "text/plain": [
              "0.23255813953488372"
            ]
          },
          "metadata": {},
          "execution_count": 15
        }
      ]
    },
    {
      "cell_type": "markdown",
      "source": [
        "Same results, validates our function."
      ],
      "metadata": {
        "id": "OxVhGnMSicc_"
      }
    },
    {
      "cell_type": "markdown",
      "source": [
        "Computes covariance matrix"
      ],
      "metadata": {
        "id": "Y-wDo-BMippn"
      }
    },
    {
      "cell_type": "code",
      "source": [
        "cov_matrix_2 = (X_people.T @ X_people) / (X_people.shape[0]-1)\n",
        "cov_matrix_2"
      ],
      "metadata": {
        "colab": {
          "base_uri": "https://localhost:8080/"
        },
        "id": "muGyO6kdoH9U",
        "outputId": "b6fd6a7c-eda8-42a0-dea8-0cef606117de"
      },
      "execution_count": 16,
      "outputs": [
        {
          "output_type": "execute_result",
          "data": {
            "text/plain": [
              "array([[ 0.99999845,  0.97928625,  0.92844844, ..., -0.00927771,\n",
              "        -0.01618169, -0.01485765],\n",
              "       [ 0.97928625,  1.0000006 ,  0.978086  , ..., -0.0118098 ,\n",
              "        -0.0187887 , -0.0190735 ],\n",
              "       [ 0.92844844,  0.978086  ,  0.9999994 , ..., -0.01986225,\n",
              "        -0.02924158, -0.03269945],\n",
              "       ...,\n",
              "       [-0.00927771, -0.0118098 , -0.01986225, ...,  1.0000007 ,\n",
              "         0.9624569 ,  0.882829  ],\n",
              "       [-0.01618169, -0.0187887 , -0.02924158, ...,  0.9624569 ,\n",
              "         1.000001  ,  0.96808505],\n",
              "       [-0.01485765, -0.0190735 , -0.03269945, ...,  0.882829  ,\n",
              "         0.96808505,  0.9999982 ]], dtype=float32)"
            ]
          },
          "metadata": {},
          "execution_count": 16
        }
      ]
    },
    {
      "cell_type": "markdown",
      "source": [
        "Computes eigenvalues and eigenvectors of covariance matrix"
      ],
      "metadata": {
        "id": "h1iJcShRir49"
      }
    },
    {
      "cell_type": "code",
      "source": [
        "val_2, vec_2 = np.linalg.eig(cov_matrix_2)\n",
        "print(val_2)\n",
        "print(vec_2)"
      ],
      "metadata": {
        "colab": {
          "base_uri": "https://localhost:8080/"
        },
        "id": "LWZ_WDWVtBuE",
        "outputId": "43e2658f-a77a-416f-c665-7e106a229980"
      },
      "execution_count": 17,
      "outputs": [
        {
          "output_type": "stream",
          "name": "stdout",
          "text": [
            "[ 1.5084062e+03  6.2152826e+02  4.2481931e+02 ... -5.5625094e-08\n",
            " -5.9811057e-08 -3.5820523e-08]\n",
            "[[-1.98759604e-03 -8.57915729e-03 -1.92161370e-02 ...  1.15194160e-03\n",
            "  -5.31899510e-04  4.01710849e-06]\n",
            " [-2.36864504e-03 -8.49713665e-03 -2.01088190e-02 ...  7.60699296e-03\n",
            "  -1.02591086e-02 -2.04272121e-02]\n",
            " [-2.73777405e-03 -8.79432540e-03 -2.12171208e-02 ... -1.76796280e-02\n",
            "  -4.09280695e-03  1.33060208e-02]\n",
            " ...\n",
            " [-1.78924261e-03  1.06049571e-02  2.77084624e-03 ...  6.08807756e-03\n",
            "   1.55317243e-02 -2.07685865e-03]\n",
            " [-1.58617378e-03  1.03026321e-02  2.97565665e-03 ...  5.60984947e-03\n",
            "  -9.05180722e-03 -1.38741164e-02]\n",
            " [-1.23330369e-03  9.85190272e-03  3.13045224e-03 ... -1.05762975e-02\n",
            "   1.19304359e-02  4.20962507e-03]]\n"
          ]
        }
      ]
    },
    {
      "cell_type": "markdown",
      "source": [
        "Simultaneously sorts largest eigenvalues and the corresponding eigenvectors"
      ],
      "metadata": {
        "id": "D9p0OG7Eiz9Q"
      }
    },
    {
      "cell_type": "code",
      "source": [
        "index = val_2.argsort()[::-1]\n",
        "eigval_2 = val_2[index]\n",
        "eigvec_2 = vec_2[:,index]"
      ],
      "metadata": {
        "id": "ZmaOKfpit1Kt"
      },
      "execution_count": 18,
      "outputs": []
    },
    {
      "cell_type": "code",
      "source": [
        "eigval_2"
      ],
      "metadata": {
        "colab": {
          "base_uri": "https://localhost:8080/"
        },
        "id": "znhPC3GpwuFR",
        "outputId": "9d2c5fe4-6b86-4662-d1fa-f3b5cc1a41a1"
      },
      "execution_count": 19,
      "outputs": [
        {
          "output_type": "execute_result",
          "data": {
            "text/plain": [
              "array([ 1.5084062e+03,  6.2152826e+02,  4.2481931e+02, ...,\n",
              "       -4.6053469e-06, -4.6280579e-06, -4.6477403e-06], dtype=float32)"
            ]
          },
          "metadata": {},
          "execution_count": 19
        }
      ]
    },
    {
      "cell_type": "code",
      "source": [
        "eigvec_2"
      ],
      "metadata": {
        "colab": {
          "base_uri": "https://localhost:8080/"
        },
        "id": "n5Xtb1lUxwpC",
        "outputId": "4280e33c-68e9-44d4-ff3c-40b05cf8d895"
      },
      "execution_count": 20,
      "outputs": [
        {
          "output_type": "execute_result",
          "data": {
            "text/plain": [
              "array([[-0.0019876 , -0.00857916, -0.01921614, ...,  0.00069185,\n",
              "         0.00162982, -0.00124249],\n",
              "       [-0.00236865, -0.00849714, -0.02010882, ..., -0.00037242,\n",
              "        -0.00114094, -0.00532908],\n",
              "       [-0.00273777, -0.00879433, -0.02121712, ..., -0.00260353,\n",
              "        -0.00632396,  0.00766554],\n",
              "       ...,\n",
              "       [-0.00178924,  0.01060496,  0.00277085, ...,  0.00745533,\n",
              "        -0.00106318, -0.00184463],\n",
              "       [-0.00158617,  0.01030263,  0.00297566, ...,  0.00446471,\n",
              "        -0.00453406,  0.00120215],\n",
              "       [-0.0012333 ,  0.0098519 ,  0.00313045, ..., -0.00387705,\n",
              "        -0.00371409,  0.00503087]], dtype=float32)"
            ]
          },
          "metadata": {},
          "execution_count": 20
        }
      ]
    },
    {
      "cell_type": "markdown",
      "source": [
        "Takes the eigenvectors corresponding to the largest 100 eigenvalues"
      ],
      "metadata": {
        "id": "PHleZaGJjJ_x"
      }
    },
    {
      "cell_type": "code",
      "source": [
        "new_base_100 = eigvec_2[:,:100]\n",
        "new_base_100.shape"
      ],
      "metadata": {
        "colab": {
          "base_uri": "https://localhost:8080/"
        },
        "id": "I5kTjG7TyMiF",
        "outputId": "242d9b41-2e3c-4890-93aa-d40d26a37001"
      },
      "execution_count": 21,
      "outputs": [
        {
          "output_type": "execute_result",
          "data": {
            "text/plain": [
              "(5655, 100)"
            ]
          },
          "metadata": {},
          "execution_count": 21
        }
      ]
    },
    {
      "cell_type": "markdown",
      "source": [
        "Projects the data on the reduced dimensions"
      ],
      "metadata": {
        "id": "VvdXK6TPjajX"
      }
    },
    {
      "cell_type": "code",
      "source": [
        "new_X_people_100 = X_people @ new_base_100"
      ],
      "metadata": {
        "id": "S6wQYFl6zaIv"
      },
      "execution_count": 22,
      "outputs": []
    },
    {
      "cell_type": "code",
      "source": [
        "new_X_people_100.shape"
      ],
      "metadata": {
        "colab": {
          "base_uri": "https://localhost:8080/"
        },
        "id": "_Um6IZu81xRC",
        "outputId": "19773903-a31c-4bf6-e37d-1472ced36664"
      },
      "execution_count": 23,
      "outputs": [
        {
          "output_type": "execute_result",
          "data": {
            "text/plain": [
              "(2063, 100)"
            ]
          },
          "metadata": {},
          "execution_count": 23
        }
      ]
    },
    {
      "cell_type": "code",
      "source": [
        "new_X_people_100"
      ],
      "metadata": {
        "colab": {
          "base_uri": "https://localhost:8080/"
        },
        "id": "T5Cf0YDDDyL1",
        "outputId": "9a8a43f8-89ce-4f76-bf2f-cdab54bff778"
      },
      "execution_count": 24,
      "outputs": [
        {
          "output_type": "execute_result",
          "data": {
            "text/plain": [
              "array([[-22.486244  , -22.455296  ,  -3.091397  , ...,   1.2018657 ,\n",
              "         -0.23465464,  -1.5919192 ],\n",
              "       [ -5.462109  , -39.963055  ,  -9.760394  , ...,   1.3057508 ,\n",
              "         -4.283178  ,   0.8914396 ],\n",
              "       [ 61.883575  ,  19.203999  , -24.429802  , ...,  -4.1177764 ,\n",
              "         -3.9368954 ,   0.90973496],\n",
              "       ...,\n",
              "       [-41.428833  ,  -6.509574  , -10.0286    , ...,   0.36442375,\n",
              "          1.0276735 ,  -0.7881756 ],\n",
              "       [-48.933647  ,  70.13073   ,  21.267193  , ...,  -5.0046244 ,\n",
              "          3.2665043 ,  -1.4391997 ],\n",
              "       [-76.09096   , -37.856945  ,   2.1241548 , ...,   3.5849214 ,\n",
              "         -2.8762493 ,  -0.47657728]], dtype=float32)"
            ]
          },
          "metadata": {},
          "execution_count": 24
        }
      ]
    },
    {
      "cell_type": "markdown",
      "source": [
        "Computes scikit learn PCA to verify own results. Also saves projected values."
      ],
      "metadata": {
        "id": "VNU9pWqE6eqj"
      }
    },
    {
      "cell_type": "code",
      "source": [
        "pca_100 = PCA(n_components=100)\n",
        "new_data_pca_100 = pca_100.fit_transform(X_people)"
      ],
      "metadata": {
        "id": "3FNXXZVwD6Ps"
      },
      "execution_count": 25,
      "outputs": []
    },
    {
      "cell_type": "code",
      "source": [
        "eigvec_2[:,:100]"
      ],
      "metadata": {
        "colab": {
          "base_uri": "https://localhost:8080/"
        },
        "id": "YEGBFi436zdn",
        "outputId": "32102dae-4f31-46d9-d8bb-ca1645bcf69d"
      },
      "execution_count": 26,
      "outputs": [
        {
          "output_type": "execute_result",
          "data": {
            "text/plain": [
              "array([[-0.0019876 , -0.00857916, -0.01921614, ..., -0.00442393,\n",
              "         0.00819862, -0.03089322],\n",
              "       [-0.00236865, -0.00849714, -0.02010882, ..., -0.00643351,\n",
              "         0.00508224, -0.03370292],\n",
              "       [-0.00273777, -0.00879433, -0.02121712, ..., -0.00771954,\n",
              "         0.00392402, -0.03136019],\n",
              "       ...,\n",
              "       [-0.00178924,  0.01060496,  0.00277085, ..., -0.00221162,\n",
              "        -0.0011222 , -0.00813787],\n",
              "       [-0.00158617,  0.01030263,  0.00297566, ..., -0.01051723,\n",
              "         0.00383753, -0.00397913],\n",
              "       [-0.0012333 ,  0.0098519 ,  0.00313045, ..., -0.01399695,\n",
              "         0.00844866,  0.00098401]], dtype=float32)"
            ]
          },
          "metadata": {},
          "execution_count": 26
        }
      ]
    },
    {
      "cell_type": "code",
      "source": [
        "pca_100.components_.T"
      ],
      "metadata": {
        "colab": {
          "base_uri": "https://localhost:8080/"
        },
        "id": "if3EB_ix6tbs",
        "outputId": "c2077414-7a5c-4f8d-d8c6-b9030fd21ab0"
      },
      "execution_count": 27,
      "outputs": [
        {
          "output_type": "execute_result",
          "data": {
            "text/plain": [
              "array([[-0.00198761,  0.00857915, -0.01921626, ...,  0.00517145,\n",
              "        -0.03241887,  0.00572277],\n",
              "       [-0.00236865,  0.00849709, -0.02010886, ...,  0.00227663,\n",
              "        -0.03478203,  0.00400741],\n",
              "       [-0.00273778,  0.00879433, -0.02121717, ...,  0.00101938,\n",
              "        -0.03202958,  0.00357717],\n",
              "       ...,\n",
              "       [-0.00178924, -0.01060496,  0.00277085, ...,  0.00015534,\n",
              "        -0.00504422, -0.00602932],\n",
              "       [-0.00158617, -0.01030263,  0.00297566, ..., -0.00395745,\n",
              "        -0.00444496,  0.00201299],\n",
              "       [-0.0012333 , -0.0098519 ,  0.00313045, ..., -0.0043028 ,\n",
              "        -0.00178935,  0.008076  ]], dtype=float32)"
            ]
          },
          "metadata": {},
          "execution_count": 27
        }
      ]
    },
    {
      "cell_type": "markdown",
      "source": [
        "Results are close enough to validate our results."
      ],
      "metadata": {
        "id": "GL6Wz9Aq7Fk8"
      }
    },
    {
      "cell_type": "markdown",
      "source": [
        "Splits the data into training and testing sets"
      ],
      "metadata": {
        "id": "mkJRP3lEj_E-"
      }
    },
    {
      "cell_type": "code",
      "source": [
        "X_train_100, X_test_100, y_train_100, y_test_100 = train_test_split(new_X_people_100, y_people, stratify=y_people, random_state=0)"
      ],
      "metadata": {
        "id": "qbCQeAT22FTt"
      },
      "execution_count": 28,
      "outputs": []
    },
    {
      "cell_type": "markdown",
      "source": [
        "Computes the KNN accuracy score for reduced 100D data"
      ],
      "metadata": {
        "id": "ojkdAIZLkE_6"
      }
    },
    {
      "cell_type": "code",
      "source": [
        "y_pred_100 = my_knn(X_train_100, y_train_100, X_test_100)\n",
        "accuracy_score(y_pred_100, y_test_100)"
      ],
      "metadata": {
        "colab": {
          "base_uri": "https://localhost:8080/"
        },
        "id": "uFKbsq_H2W-n",
        "outputId": "6bcd91a2-ffaf-4e2e-c471-91a352e939f5"
      },
      "execution_count": 29,
      "outputs": [
        {
          "output_type": "execute_result",
          "data": {
            "text/plain": [
              "0.25775193798449614"
            ]
          },
          "metadata": {},
          "execution_count": 29
        }
      ]
    },
    {
      "cell_type": "markdown",
      "source": [
        "Checks against scikit learn KNN."
      ],
      "metadata": {
        "id": "gleVCFU47f1v"
      }
    },
    {
      "cell_type": "code",
      "source": [
        "knn_100 = KNeighborsClassifier(n_neighbors=1)\n",
        "knn_100.fit(X_train_100, y_train_100)\n",
        "knn_100.score(X_test_100, y_test_100)"
      ],
      "metadata": {
        "colab": {
          "base_uri": "https://localhost:8080/"
        },
        "id": "8lyvQuwu7PEI",
        "outputId": "91f8a9bb-ddda-4dc2-adda-54e73881d847"
      },
      "execution_count": 30,
      "outputs": [
        {
          "output_type": "execute_result",
          "data": {
            "text/plain": [
              "0.25775193798449614"
            ]
          },
          "metadata": {},
          "execution_count": 30
        }
      ]
    },
    {
      "cell_type": "markdown",
      "source": [
        "Our results are validated."
      ],
      "metadata": {
        "id": "Bf0aWP0U7h_g"
      }
    },
    {
      "cell_type": "code",
      "source": [
        "weigval_2 = eigval_2[:100]\n",
        "weigvec_2 = eigvec_2[:,:100]"
      ],
      "metadata": {
        "id": "ALxM9ukFwnKE"
      },
      "execution_count": 31,
      "outputs": []
    },
    {
      "cell_type": "markdown",
      "source": [
        "Creates eigenvalue diagonal matrix for Whitening"
      ],
      "metadata": {
        "id": "LkTvNRqSkNuX"
      }
    },
    {
      "cell_type": "code",
      "source": [
        "eig_diag = np.diag((weigval_2)**(-1/2))\n",
        "eig_diag"
      ],
      "metadata": {
        "colab": {
          "base_uri": "https://localhost:8080/"
        },
        "id": "rTZLQB-yvQcA",
        "outputId": "e71172a4-997c-47bc-f158-c6f8740720e3"
      },
      "execution_count": 32,
      "outputs": [
        {
          "output_type": "execute_result",
          "data": {
            "text/plain": [
              "array([[0.02574784, 0.        , 0.        , ..., 0.        , 0.        ,\n",
              "        0.        ],\n",
              "       [0.        , 0.04011156, 0.        , ..., 0.        , 0.        ,\n",
              "        0.        ],\n",
              "       [0.        , 0.        , 0.04851744, ..., 0.        , 0.        ,\n",
              "        0.        ],\n",
              "       ...,\n",
              "       [0.        , 0.        , 0.        , ..., 0.43766454, 0.        ,\n",
              "        0.        ],\n",
              "       [0.        , 0.        , 0.        , ..., 0.        , 0.43976012,\n",
              "        0.        ],\n",
              "       [0.        , 0.        , 0.        , ..., 0.        , 0.        ,\n",
              "        0.44205007]], dtype=float32)"
            ]
          },
          "metadata": {},
          "execution_count": 32
        }
      ]
    },
    {
      "cell_type": "markdown",
      "source": [
        "Whitens the data"
      ],
      "metadata": {
        "id": "qWd8-lP6kajT"
      }
    },
    {
      "cell_type": "code",
      "source": [
        "wX_people_100 = (eig_diag @ weigvec_2.T @ X_people.T).T"
      ],
      "metadata": {
        "id": "78sg8cNMqgN8"
      },
      "execution_count": 33,
      "outputs": []
    },
    {
      "cell_type": "markdown",
      "source": [
        "Splits whitened data into training and testing sets"
      ],
      "metadata": {
        "id": "5LJHuimYkc6L"
      }
    },
    {
      "cell_type": "code",
      "source": [
        "wX_train_100, wX_test_100, wy_train_100, wy_test_100 = train_test_split(wX_people_100, y_people, stratify=y_people, random_state=0)"
      ],
      "metadata": {
        "id": "n4M1lKJrzhit"
      },
      "execution_count": 34,
      "outputs": []
    },
    {
      "cell_type": "markdown",
      "source": [
        "Computes KNN accuracy for whitened data"
      ],
      "metadata": {
        "id": "Q__5Ba3TkglF"
      }
    },
    {
      "cell_type": "code",
      "source": [
        "wy_pred_100 = my_knn(wX_train_100, wy_train_100, wX_test_100)\n",
        "accuracy_score(wy_pred_100, wy_test_100)"
      ],
      "metadata": {
        "colab": {
          "base_uri": "https://localhost:8080/"
        },
        "id": "XzMJAqkg33uL",
        "outputId": "db612a78-f4d6-46d3-f642-33cd7f6fb5a6"
      },
      "execution_count": 35,
      "outputs": [
        {
          "output_type": "execute_result",
          "data": {
            "text/plain": [
              "0.3546511627906977"
            ]
          },
          "metadata": {},
          "execution_count": 35
        }
      ]
    },
    {
      "cell_type": "markdown",
      "source": [
        "Checks against scikit learn KNN"
      ],
      "metadata": {
        "id": "PexKFqIR7tx5"
      }
    },
    {
      "cell_type": "code",
      "source": [
        "knn_100w = KNeighborsClassifier(n_neighbors=1)\n",
        "knn_100w.fit(wX_train_100, wy_train_100)\n",
        "knn_100w.score(wX_test_100, wy_test_100)"
      ],
      "metadata": {
        "colab": {
          "base_uri": "https://localhost:8080/"
        },
        "id": "woRFhc_c7uSt",
        "outputId": "804c9412-6924-466e-c0fc-f309a389c01a"
      },
      "execution_count": 36,
      "outputs": [
        {
          "output_type": "execute_result",
          "data": {
            "text/plain": [
              "0.3546511627906977"
            ]
          },
          "metadata": {},
          "execution_count": 36
        }
      ]
    },
    {
      "cell_type": "markdown",
      "source": [
        "Computes new base with eigenvectors corresponding to the 2 largest eigenvalues"
      ],
      "metadata": {
        "id": "VSRBqzi-kl5z"
      }
    },
    {
      "cell_type": "code",
      "source": [
        "new_base_2 = eigvec_2[:,:2]"
      ],
      "metadata": {
        "id": "VSSTMegZ4e6i"
      },
      "execution_count": 37,
      "outputs": []
    },
    {
      "cell_type": "markdown",
      "source": [
        "Projects data on reduced 2D"
      ],
      "metadata": {
        "id": "Bx8MQ_1nkw90"
      }
    },
    {
      "cell_type": "code",
      "source": [
        "new_X_people_2 = X_people @ new_base_2\n",
        "new_X_people_2.shape"
      ],
      "metadata": {
        "colab": {
          "base_uri": "https://localhost:8080/"
        },
        "id": "YcSwchVp4k-r",
        "outputId": "8b6f5fca-f656-4911-d1dd-a4f6e68edc6b"
      },
      "execution_count": 38,
      "outputs": [
        {
          "output_type": "execute_result",
          "data": {
            "text/plain": [
              "(2063, 2)"
            ]
          },
          "metadata": {},
          "execution_count": 38
        }
      ]
    },
    {
      "cell_type": "code",
      "source": [
        "new_X_people_2"
      ],
      "metadata": {
        "colab": {
          "base_uri": "https://localhost:8080/"
        },
        "id": "APOthBuYE_VB",
        "outputId": "fb722afa-d8c6-4160-d273-f7dc87497aec"
      },
      "execution_count": 39,
      "outputs": [
        {
          "output_type": "execute_result",
          "data": {
            "text/plain": [
              "array([[-22.486246 , -22.455297 ],\n",
              "       [ -5.4621067, -39.96306  ],\n",
              "       [ 61.88358  ,  19.203997 ],\n",
              "       ...,\n",
              "       [-41.428833 ,  -6.509574 ],\n",
              "       [-48.933647 ,  70.13073  ],\n",
              "       [-76.09096  , -37.856945 ]], dtype=float32)"
            ]
          },
          "metadata": {},
          "execution_count": 39
        }
      ]
    },
    {
      "cell_type": "markdown",
      "source": [
        "Computes scikit learn PCA for comparison"
      ],
      "metadata": {
        "id": "oEDJ3AXI8j8w"
      }
    },
    {
      "cell_type": "code",
      "source": [
        "pca_2 = PCA(n_components=2)\n",
        "new_data_pca_2 = pca_2.fit_transform(X_people)"
      ],
      "metadata": {
        "id": "O_e_uWhbE67m"
      },
      "execution_count": 40,
      "outputs": []
    },
    {
      "cell_type": "code",
      "source": [
        "new_data_pca_2"
      ],
      "metadata": {
        "colab": {
          "base_uri": "https://localhost:8080/"
        },
        "id": "mjB83mo8FHEw",
        "outputId": "2c0cd1ba-ffd0-4063-eda4-46db2f733c0f"
      },
      "execution_count": 41,
      "outputs": [
        {
          "output_type": "execute_result",
          "data": {
            "text/plain": [
              "array([[-22.486254 ,  22.455284 ],\n",
              "       [ -5.4621415,  39.963028 ],\n",
              "       [ 61.883602 , -19.203976 ],\n",
              "       ...,\n",
              "       [-41.42885  ,   6.5095634],\n",
              "       [-48.9336   , -70.13072  ],\n",
              "       [-76.09099  ,  37.856915 ]], dtype=float32)"
            ]
          },
          "metadata": {},
          "execution_count": 41
        }
      ]
    },
    {
      "cell_type": "markdown",
      "source": [
        "Plots our data"
      ],
      "metadata": {
        "id": "I2WjwVmLk7oR"
      }
    },
    {
      "cell_type": "code",
      "source": [
        "plt.figure(figsize=(20, 10))\n",
        "plt.scatter(new_X_people_2[:,0],new_X_people_2[:,1])\n",
        "plt.show"
      ],
      "metadata": {
        "colab": {
          "base_uri": "https://localhost:8080/",
          "height": 522
        },
        "id": "kNMMSjym5Hyp",
        "outputId": "b577b96a-a976-4d86-976b-de7222cace2d"
      },
      "execution_count": 42,
      "outputs": [
        {
          "output_type": "execute_result",
          "data": {
            "text/plain": [
              "<function matplotlib.pyplot.show(*args, **kw)>"
            ]
          },
          "metadata": {},
          "execution_count": 42
        },
        {
          "output_type": "display_data",
          "data": {
            "text/plain": [
              "<Figure size 1440x720 with 1 Axes>"
            ],
            "image/png": "[encoded data removed]"
          },
          "metadata": {
            "needs_background": "light"
          }
        }
      ]
    },
    {
      "cell_type": "markdown",
      "source": [
        "Plots scikit learn PCA data"
      ],
      "metadata": {
        "id": "IGIBht3b86KB"
      }
    },
    {
      "cell_type": "code",
      "source": [
        "plt.figure(figsize=(20, 10))\n",
        "plt.scatter(new_data_pca_2[:,0],new_data_pca_2[:,1])\n",
        "plt.show"
      ],
      "metadata": {
        "colab": {
          "base_uri": "https://localhost:8080/",
          "height": 522
        },
        "id": "sbpjTgCNFR6N",
        "outputId": "fa081478-9095-4747-81f2-35b0adcf20d2"
      },
      "execution_count": 43,
      "outputs": [
        {
          "output_type": "execute_result",
          "data": {
            "text/plain": [
              "<function matplotlib.pyplot.show(*args, **kw)>"
            ]
          },
          "metadata": {},
          "execution_count": 43
        },
        {
          "output_type": "display_data",
          "data": {
            "text/plain": [
              "<Figure size 1440x720 with 1 Axes>"
            ],
            "image/png": "[encoded data removed]"
          },
          "metadata": {
            "needs_background": "light"
          }
        }
      ]
    }
  ]
}
