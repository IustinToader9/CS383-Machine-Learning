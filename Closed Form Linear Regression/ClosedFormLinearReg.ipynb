{
  "nbformat": 4,
  "nbformat_minor": 0,
  "metadata": {
    "colab": {
      "provenance": []
    },
    "kernelspec": {
      "name": "python3",
      "display_name": "Python 3"
    },
    "language_info": {
      "name": "python"
    }
  },
  "cells": [
    {
      "cell_type": "code",
      "execution_count": 1,
      "metadata": {
        "id": "hV_H2hdXuUJN"
      },
      "outputs": [],
      "source": [
        "import numpy as np\n",
        "import matplotlib.pyplot as plt\n",
        "import sklearn.linear_model\n",
        "from google.colab import files\n",
        "import random\n",
        "from sklearn.model_selection import train_test_split\n",
        "from math import ceil"
      ]
    },
    {
      "cell_type": "markdown",
      "source": [
        "Function for uploading file to Google Colab"
      ],
      "metadata": {
        "id": "bW1UiJy9RQ9V"
      }
    },
    {
      "cell_type": "code",
      "source": [
        "files.upload()"
      ],
      "metadata": {
        "colab": {
          "base_uri": "https://localhost:8080/",
          "height": 129
        },
        "id": "IArSuQsx3Ssg",
        "outputId": "46a6163b-f303-43cd-b9dc-cd92e233bb67"
      },
      "execution_count": 2,
      "outputs": [
        {
          "output_type": "display_data",
          "data": {
            "text/plain": [
              "<IPython.core.display.HTML object>"
            ],
            "text/html": [
              "\n",
              "     <input type=\"file\" id=\"files-8202d6a6-cc23-49cf-a4b4-e7cc9e1b8fa8\" name=\"files[]\" multiple disabled\n",
              "        style=\"border:none\" />\n",
              "     <output id=\"result-8202d6a6-cc23-49cf-a4b4-e7cc9e1b8fa8\">\n",
              "      Upload widget is only available when the cell has been executed in the\n",
              "      current browser session. Please rerun this cell to enable.\n",
              "      </output>\n",
              "      <script>// Copyright 2017 Google LLC\n",
              "//\n",
              "// Licensed under the Apache License, Version 2.0 (the \"License\");\n",
              "// you may not use this file except in compliance with the License.\n",
              "// You may obtain a copy of the License at\n",
              "//\n",
              "//      http://www.apache.org/licenses/LICENSE-2.0\n",
              "//\n",
              "// Unless required by applicable law or agreed to in writing, software\n",
              "// distributed under the License is distributed on an \"AS IS\" BASIS,\n",
              "// WITHOUT WARRANTIES OR CONDITIONS OF ANY KIND, either express or implied.\n",
              "// See the License for the specific language governing permissions and\n",
              "// limitations under the License.\n",
              "\n",
              "/**\n",
              " * @fileoverview Helpers for google.colab Python module.\n",
              " */\n",
              "(function(scope) {\n",
              "function span(text, styleAttributes = {}) {\n",
              "  const element = document.createElement('span');\n",
              "  element.textContent = text;\n",
              "  for (const key of Object.keys(styleAttributes)) {\n",
              "    element.style[key] = styleAttributes[key];\n",
              "  }\n",
              "  return element;\n",
              "}\n",
              "\n",
              "// Max number of bytes which will be uploaded at a time.\n",
              "const MAX_PAYLOAD_SIZE = 100 * 1024;\n",
              "\n",
              "function _uploadFiles(inputId, outputId) {\n",
              "  const steps = uploadFilesStep(inputId, outputId);\n",
              "  const outputElement = document.getElementById(outputId);\n",
              "  // Cache steps on the outputElement to make it available for the next call\n",
              "  // to uploadFilesContinue from Python.\n",
              "  outputElement.steps = steps;\n",
              "\n",
              "  return _uploadFilesContinue(outputId);\n",
              "}\n",
              "\n",
              "// This is roughly an async generator (not supported in the browser yet),\n",
              "// where there are multiple asynchronous steps and the Python side is going\n",
              "// to poll for completion of each step.\n",
              "// This uses a Promise to block the python side on completion of each step,\n",
              "// then passes the result of the previous step as the input to the next step.\n",
              "function _uploadFilesContinue(outputId) {\n",
              "  const outputElement = document.getElementById(outputId);\n",
              "  const steps = outputElement.steps;\n",
              "\n",
              "  const next = steps.next(outputElement.lastPromiseValue);\n",
              "  return Promise.resolve(next.value.promise).then((value) => {\n",
              "    // Cache the last promise value to make it available to the next\n",
              "    // step of the generator.\n",
              "    outputElement.lastPromiseValue = value;\n",
              "    return next.value.response;\n",
              "  });\n",
              "}\n",
              "\n",
              "/**\n",
              " * Generator function which is called between each async step of the upload\n",
              " * process.\n",
              " * @param {string} inputId Element ID of the input file picker element.\n",
              " * @param {string} outputId Element ID of the output display.\n",
              " * @return {!Iterable<!Object>} Iterable of next steps.\n",
              " */\n",
              "function* uploadFilesStep(inputId, outputId) {\n",
              "  const inputElement = document.getElementById(inputId);\n",
              "  inputElement.disabled = false;\n",
              "\n",
              "  const outputElement = document.getElementById(outputId);\n",
              "  outputElement.innerHTML = '';\n",
              "\n",
              "  const pickedPromise = new Promise((resolve) => {\n",
              "    inputElement.addEventListener('change', (e) => {\n",
              "      resolve(e.target.files);\n",
              "    });\n",
              "  });\n",
              "\n",
              "  const cancel = document.createElement('button');\n",
              "  inputElement.parentElement.appendChild(cancel);\n",
              "  cancel.textContent = 'Cancel upload';\n",
              "  const cancelPromise = new Promise((resolve) => {\n",
              "    cancel.onclick = () => {\n",
              "      resolve(null);\n",
              "    };\n",
              "  });\n",
              "\n",
              "  // Wait for the user to pick the files.\n",
              "  const files = yield {\n",
              "    promise: Promise.race([pickedPromise, cancelPromise]),\n",
              "    response: {\n",
              "      action: 'starting',\n",
              "    }\n",
              "  };\n",
              "\n",
              "  cancel.remove();\n",
              "\n",
              "  // Disable the input element since further picks are not allowed.\n",
              "  inputElement.disabled = true;\n",
              "\n",
              "  if (!files) {\n",
              "    return {\n",
              "      response: {\n",
              "        action: 'complete',\n",
              "      }\n",
              "    };\n",
              "  }\n",
              "\n",
              "  for (const file of files) {\n",
              "    const li = document.createElement('li');\n",
              "    li.append(span(file.name, {fontWeight: 'bold'}));\n",
              "    li.append(span(\n",
              "        `(${file.type || 'n/a'}) - ${file.size} bytes, ` +\n",
              "        `last modified: ${\n",
              "            file.lastModifiedDate ? file.lastModifiedDate.toLocaleDateString() :\n",
              "                                    'n/a'} - `));\n",
              "    const percent = span('0% done');\n",
              "    li.appendChild(percent);\n",
              "\n",
              "    outputElement.appendChild(li);\n",
              "\n",
              "    const fileDataPromise = new Promise((resolve) => {\n",
              "      const reader = new FileReader();\n",
              "      reader.onload = (e) => {\n",
              "        resolve(e.target.result);\n",
              "      };\n",
              "      reader.readAsArrayBuffer(file);\n",
              "    });\n",
              "    // Wait for the data to be ready.\n",
              "    let fileData = yield {\n",
              "      promise: fileDataPromise,\n",
              "      response: {\n",
              "        action: 'continue',\n",
              "      }\n",
              "    };\n",
              "\n",
              "    // Use a chunked sending to avoid message size limits. See b/62115660.\n",
              "    let position = 0;\n",
              "    do {\n",
              "      const length = Math.min(fileData.byteLength - position, MAX_PAYLOAD_SIZE);\n",
              "      const chunk = new Uint8Array(fileData, position, length);\n",
              "      position += length;\n",
              "\n",
              "      const base64 = btoa(String.fromCharCode.apply(null, chunk));\n",
              "      yield {\n",
              "        response: {\n",
              "          action: 'append',\n",
              "          file: file.name,\n",
              "          data: base64,\n",
              "        },\n",
              "      };\n",
              "\n",
              "      let percentDone = fileData.byteLength === 0 ?\n",
              "          100 :\n",
              "          Math.round((position / fileData.byteLength) * 100);\n",
              "      percent.textContent = `${percentDone}% done`;\n",
              "\n",
              "    } while (position < fileData.byteLength);\n",
              "  }\n",
              "\n",
              "  // All done.\n",
              "  yield {\n",
              "    response: {\n",
              "      action: 'complete',\n",
              "    }\n",
              "  };\n",
              "}\n",
              "\n",
              "scope.google = scope.google || {};\n",
              "scope.google.colab = scope.google.colab || {};\n",
              "scope.google.colab._files = {\n",
              "  _uploadFiles,\n",
              "  _uploadFilesContinue,\n",
              "};\n",
              "})(self);\n",
              "</script> "
            ]
          },
          "metadata": {}
        },
        {
          "output_type": "stream",
          "name": "stdout",
          "text": [
            "Saving x06Simple(1).csv to x06Simple(1).csv\n"
          ]
        },
        {
          "output_type": "execute_result",
          "data": {
            "text/plain": [
              "{'x06Simple(1).csv': b'Index,Age,Temp of Water,Length of Fish\\r\\n1,14,25,620\\r\\n2,28,25,1315\\r\\n3,41,25,2120\\r\\n4,55,25,2600\\r\\n5,69,25,3110\\r\\n6,83,25,3535\\r\\n7,97,25,3935\\r\\n8,111,25,4465\\r\\n9,125,25,4530\\r\\n10,139,25,4570\\r\\n11,153,25,4600\\r\\n12,14,27,625\\r\\n13,28,27,1215\\r\\n14,41,27,2110\\r\\n15,55,27,2805\\r\\n16,69,27,3255\\r\\n17,83,27,4015\\r\\n18,97,27,4315\\r\\n19,111,27,4495\\r\\n20,125,27,4535\\r\\n21,139,27,4600\\r\\n22,153,27,4600\\r\\n23,14,29,590\\r\\n24,28,29,1305\\r\\n25,41,29,2140\\r\\n26,55,29,2890\\r\\n27,69,29,3920\\r\\n28,83,29,3920\\r\\n29,97,29,4515\\r\\n30,111,29,4520\\r\\n31,125,29,4525\\r\\n32,139,29,4565\\r\\n33,153,29,4566\\r\\n34,14,31,590\\r\\n35,28,31,1205\\r\\n36,41,31,1915\\r\\n37,55,31,2140\\r\\n38,69,31,2710\\r\\n39,83,31,3020\\r\\n40,97,31,3030\\r\\n41,111,31,3040\\r\\n42,125,31,3180\\r\\n43,139,31,3257\\r\\n44,153,31,3214\\r\\n'}"
            ]
          },
          "metadata": {},
          "execution_count": 2
        }
      ]
    },
    {
      "cell_type": "markdown",
      "source": [
        "Random number generator, random integer in range, and random shuffle functions"
      ],
      "metadata": {
        "id": "hm67ursNRWJ2"
      }
    },
    {
      "cell_type": "code",
      "source": [
        "#THE RANDOM NUMBER GENERATOR FUNCTION IS BY DEFAULT SEEDED WITH 0 IN THE FUNCTION\n",
        "#DEFINITION\n",
        "def r(seed=[0], m=2**32, a=1664525, c=1013904223):\n",
        "  seed[0] = (a*seed[0]+c)%m\n",
        "  return seed[0]\n",
        "\n",
        "def randint(a, b):\n",
        "  return int(a+(1+b-a)*r()/2**32)\n",
        "\n",
        "def random_shuffle(data):\n",
        "  len_data = data.shape[0]\n",
        "  for i in range(len_data-1,0,-1):\n",
        "    j = randint(0,i+1)\n",
        "    data[[i,j]] = data[[j,i]]\n",
        "  return data"
      ],
      "metadata": {
        "id": "X1pt0Dj1Scth"
      },
      "execution_count": 3,
      "outputs": []
    },
    {
      "cell_type": "markdown",
      "source": [
        "Reading the CSV file, skipping the header information, and removing the index column."
      ],
      "metadata": {
        "id": "nGU6rrhQWUIT"
      }
    },
    {
      "cell_type": "code",
      "source": [
        "datax06 = np.genfromtxt('x06Simple(1).csv', delimiter=',', skip_header=1, dtype=int)\n",
        "datax06 = np.delete(datax06, 0, 1)\n",
        "datax06"
      ],
      "metadata": {
        "id": "Bf6yUSSf3ZSB"
      },
      "execution_count": null,
      "outputs": []
    },
    {
      "cell_type": "markdown",
      "source": [
        "Randomizing the data."
      ],
      "metadata": {
        "id": "VSBcidH7buam"
      }
    },
    {
      "cell_type": "code",
      "source": [
        "datax06 = random_shuffle(datax06)\n",
        "datax06"
      ],
      "metadata": {
        "id": "ciRuzzCl7g8y"
      },
      "execution_count": null,
      "outputs": []
    },
    {
      "cell_type": "markdown",
      "source": [
        "Separating dataset into X and Y variables"
      ],
      "metadata": {
        "id": "kBkjj7OqRnJU"
      }
    },
    {
      "cell_type": "code",
      "source": [
        "X06 = datax06[:,:-1]\n",
        "Y06 = datax06[:,-1]"
      ],
      "metadata": {
        "id": "3mwXWOX94_Mg"
      },
      "execution_count": 6,
      "outputs": []
    },
    {
      "cell_type": "code",
      "source": [
        "X06"
      ],
      "metadata": {
        "id": "Pi9IMTcQWsk_"
      },
      "execution_count": null,
      "outputs": []
    },
    {
      "cell_type": "markdown",
      "source": [
        "Splitting the data into training and testing sets on a 2/3 - 1/3 basis with rounding-up."
      ],
      "metadata": {
        "id": "xH8j29_0Rs68"
      }
    },
    {
      "cell_type": "code",
      "source": [
        "X_train = X06[:ceil(2/3*datax06.shape[0]),:]\n",
        "X_test = X06[ceil(2/3*datax06.shape[0]):,:]\n",
        "Y_train = Y06[:ceil(2/3*datax06.shape[0])]\n",
        "Y_test = Y06[ceil(2/3*datax06.shape[0]):]"
      ],
      "metadata": {
        "id": "4NDJV56IU8cc"
      },
      "execution_count": 8,
      "outputs": []
    },
    {
      "cell_type": "markdown",
      "source": [
        "Calculating the mean and standard deviation of both features from the training dataset."
      ],
      "metadata": {
        "id": "2hByrlYcTTyj"
      }
    },
    {
      "cell_type": "code",
      "source": [
        "X_train_mean = np.mean(X_train, axis=0)\n",
        "X_train_std = np.std(X_train, axis=0, ddof=1)\n",
        "print(X_train_mean, X_train_std)"
      ],
      "metadata": {
        "colab": {
          "base_uri": "https://localhost:8080/"
        },
        "id": "CQlA8o9--D02",
        "outputId": "a216cdbc-65c1-4d94-9199-3b95b88aeded"
      },
      "execution_count": 9,
      "outputs": [
        {
          "output_type": "stream",
          "name": "stdout",
          "text": [
            "[86.         27.73333333] [46.55289909  2.37709375]\n"
          ]
        }
      ]
    },
    {
      "cell_type": "markdown",
      "source": [
        "Standardizing the data using the computed mean and standard deviation."
      ],
      "metadata": {
        "id": "zPj3Q2Y2XVKq"
      }
    },
    {
      "cell_type": "code",
      "source": [
        "sX_train = (X_train-X_train_mean)/X_train_std"
      ],
      "metadata": {
        "id": "zdo5Y5seXUqT"
      },
      "execution_count": 10,
      "outputs": []
    },
    {
      "cell_type": "code",
      "source": [
        "plt.plot(X_train[:,0], Y_train, 'bo')\n",
        "plt.show()"
      ],
      "metadata": {
        "colab": {
          "base_uri": "https://localhost:8080/",
          "height": 265
        },
        "id": "iDHUVLqmQnRQ",
        "outputId": "cc3061f8-0bb3-42e5-cff5-ddbb1d0e80de"
      },
      "execution_count": 11,
      "outputs": [
        {
          "output_type": "display_data",
          "data": {
            "text/plain": [
              "<Figure size 432x288 with 1 Axes>"
            ],
            "image/png": "[encoded data removed]"
          },
          "metadata": {
            "needs_background": "light"
          }
        }
      ]
    },
    {
      "cell_type": "code",
      "source": [
        "plt.plot(X_train[:,1], Y_train, 'bo')\n",
        "plt.show()"
      ],
      "metadata": {
        "id": "_-gLDXTxZ1Qh",
        "colab": {
          "base_uri": "https://localhost:8080/",
          "height": 265
        },
        "outputId": "b10d6f5a-60db-4150-9b74-c01c28a390f9"
      },
      "execution_count": 12,
      "outputs": [
        {
          "output_type": "display_data",
          "data": {
            "text/plain": [
              "<Figure size 432x288 with 1 Axes>"
            ],
            "image/png": "[encoded data removed]"
          },
          "metadata": {
            "needs_background": "light"
          }
        }
      ]
    },
    {
      "cell_type": "code",
      "source": [
        "plt.plot(sX_train[:,0], Y_train, 'bo')\n",
        "plt.show()"
      ],
      "metadata": {
        "id": "SQhJ2apHRJI0",
        "colab": {
          "base_uri": "https://localhost:8080/",
          "height": 265
        },
        "outputId": "c5970781-37be-4283-9378-afad1191ed99"
      },
      "execution_count": 13,
      "outputs": [
        {
          "output_type": "display_data",
          "data": {
            "text/plain": [
              "<Figure size 432x288 with 1 Axes>"
            ],
            "image/png": "[encoded data removed]"
          },
          "metadata": {
            "needs_background": "light"
          }
        }
      ]
    },
    {
      "cell_type": "code",
      "source": [
        "plt.plot(sX_train[:,1], Y_train, 'bo')\n",
        "plt.show()"
      ],
      "metadata": {
        "id": "WK1S8Tf9Zun0",
        "colab": {
          "base_uri": "https://localhost:8080/",
          "height": 265
        },
        "outputId": "e4a699f2-4ead-431c-d0f1-b071dce17101"
      },
      "execution_count": 14,
      "outputs": [
        {
          "output_type": "display_data",
          "data": {
            "text/plain": [
              "<Figure size 432x288 with 1 Axes>"
            ],
            "image/png": "[encoded data removed]"
          },
          "metadata": {
            "needs_background": "light"
          }
        }
      ]
    },
    {
      "cell_type": "markdown",
      "source": [
        "Adding the bias feature"
      ],
      "metadata": {
        "id": "9TGzWvFwZ7sX"
      }
    },
    {
      "cell_type": "code",
      "source": [
        "bias = np.ones((sX_train.shape[0],1))\n",
        "bias_sX_train = np.hstack((bias, sX_train))"
      ],
      "metadata": {
        "id": "i6GByKY1WGiF"
      },
      "execution_count": 15,
      "outputs": []
    },
    {
      "cell_type": "markdown",
      "source": [
        "Computing the closed-form solution of linear regression."
      ],
      "metadata": {
        "id": "5N0HiaRiXsY8"
      }
    },
    {
      "cell_type": "code",
      "source": [
        "Theta06 = np.linalg.inv(bias_sX_train.T @ bias_sX_train) @ bias_sX_train.T @ Y_train\n",
        "print(Theta06)"
      ],
      "metadata": {
        "colab": {
          "base_uri": "https://localhost:8080/"
        },
        "id": "Xq3WdBEoYOIf",
        "outputId": "70660cd5-5114-4c37-a6b5-702e9753403a"
      },
      "execution_count": 16,
      "outputs": [
        {
          "output_type": "stream",
          "name": "stdout",
          "text": [
            "[3126.9        1266.6599659  -329.49611507]\n"
          ]
        }
      ]
    },
    {
      "cell_type": "markdown",
      "source": [
        "Confirming our result with the sklearn.linear_model LinearRegression function."
      ],
      "metadata": {
        "id": "bmleekAuYC9S"
      }
    },
    {
      "cell_type": "code",
      "source": [
        "reg06=sklearn.linear_model.LinearRegression().fit(bias_sX_train, Y_train)\n",
        "reg06.coef_"
      ],
      "metadata": {
        "colab": {
          "base_uri": "https://localhost:8080/"
        },
        "id": "m87fzLDeZTB_",
        "outputId": "f5d360f7-fc74-4343-914c-36ccd651ec07"
      },
      "execution_count": 17,
      "outputs": [
        {
          "output_type": "execute_result",
          "data": {
            "text/plain": [
              "array([   0.        , 1266.6599659 , -329.49611507])"
            ]
          },
          "metadata": {},
          "execution_count": 17
        }
      ]
    },
    {
      "cell_type": "code",
      "source": [
        "reg06.intercept_"
      ],
      "metadata": {
        "colab": {
          "base_uri": "https://localhost:8080/"
        },
        "id": "Ntdsuki1ZvMT",
        "outputId": "c7e9e36b-22d5-48cc-e9c2-30c8962fde7c"
      },
      "execution_count": 18,
      "outputs": [
        {
          "output_type": "execute_result",
          "data": {
            "text/plain": [
              "3126.9"
            ]
          },
          "metadata": {},
          "execution_count": 18
        }
      ]
    },
    {
      "cell_type": "markdown",
      "source": [
        "Our result is confirmed."
      ],
      "metadata": {
        "id": "n5y5QeF1ZPfF"
      }
    },
    {
      "cell_type": "markdown",
      "source": [
        "The final model is:\n",
        "\n",
        "$y = 3134 + 1241.86331461x_1 - 136.29475515x_2 $"
      ],
      "metadata": {
        "id": "VqrBGbEwZd7b"
      }
    },
    {
      "cell_type": "markdown",
      "source": [
        "Applying the solution to the testing samples."
      ],
      "metadata": {
        "id": "b3UgCJDsZSNQ"
      }
    },
    {
      "cell_type": "markdown",
      "source": [
        "Standardizing testing dataset."
      ],
      "metadata": {
        "id": "8zIHzuHAaBIT"
      }
    },
    {
      "cell_type": "code",
      "source": [
        "sX_test = (X_test-X_train_mean)/X_train_std"
      ],
      "metadata": {
        "id": "0cbljZ3-eE5b"
      },
      "execution_count": 19,
      "outputs": []
    },
    {
      "cell_type": "markdown",
      "source": [
        "Adding bias feature"
      ],
      "metadata": {
        "id": "WQ_sLH8WaE3x"
      }
    },
    {
      "cell_type": "code",
      "source": [
        "bias_test = np.ones((sX_test.shape[0],1))\n",
        "bias_sX_test = np.hstack((bias_test, sX_test))\n",
        "bias_sX_test"
      ],
      "metadata": {
        "id": "5AQOyXAJbjOM"
      },
      "execution_count": null,
      "outputs": []
    },
    {
      "cell_type": "markdown",
      "source": [
        "Computing the predictions"
      ],
      "metadata": {
        "id": "BvwRJ7jIaHY7"
      }
    },
    {
      "cell_type": "code",
      "source": [
        "Y_pred = bias_sX_test @ Theta06\n",
        "Y_pred"
      ],
      "metadata": {
        "colab": {
          "base_uri": "https://localhost:8080/"
        },
        "id": "EicQTuvscKW5",
        "outputId": "30c34a99-a179-4e31-cbd7-bd786e2c9240"
      },
      "execution_count": 21,
      "outputs": [
        {
          "output_type": "execute_result",
          "data": {
            "text/plain": [
              "array([3354.32365404, 1095.97284835, 2107.84310201, 2869.69638586,\n",
              "       4670.62896921, 3908.77568537, 2592.47037019, 2004.14247576,\n",
              "       1726.91646009, 2765.9957596 , 3250.62302778, 1449.69044442,\n",
              "       1650.42487968, 5328.7816268 ])"
            ]
          },
          "metadata": {},
          "execution_count": 21
        }
      ]
    },
    {
      "cell_type": "code",
      "source": [
        "Y_test"
      ],
      "metadata": {
        "colab": {
          "base_uri": "https://localhost:8080/"
        },
        "id": "MB752MR9dNoL",
        "outputId": "5bc6d33e-66ec-47b9-af92-4833ecdef863"
      },
      "execution_count": 22,
      "outputs": [
        {
          "output_type": "execute_result",
          "data": {
            "text/plain": [
              "array([3040, 1205, 2890, 3920, 4600, 4495, 3020, 2110, 2140, 3255, 4515,\n",
              "       1915, 1215, 4600])"
            ]
          },
          "metadata": {},
          "execution_count": 22
        }
      ]
    },
    {
      "cell_type": "markdown",
      "source": [
        "Computing the RMSE."
      ],
      "metadata": {
        "id": "NO-N_ynRaLy-"
      }
    },
    {
      "cell_type": "code",
      "source": [
        "diff_arr = np.subtract(Y_test, Y_pred)\n",
        "sq_arr = np.square(diff_arr)\n",
        "mse = sq_arr.mean()\n",
        "rmse = np.sqrt(mse)\n",
        "rmse"
      ],
      "metadata": {
        "colab": {
          "base_uri": "https://localhost:8080/"
        },
        "id": "YVgyokiufQx-",
        "outputId": "57eeaeea-4947-4403-be76-004ed0f46f51"
      },
      "execution_count": 23,
      "outputs": [
        {
          "output_type": "execute_result",
          "data": {
            "text/plain": [
              "616.0862025884468"
            ]
          },
          "metadata": {},
          "execution_count": 23
        }
      ]
    },
    {
      "cell_type": "markdown",
      "source": [
        "Confirming our predictions with the linear regression predict function."
      ],
      "metadata": {
        "id": "jX-m7iHqaQ5X"
      }
    },
    {
      "cell_type": "code",
      "source": [
        "reg06.predict(bias_sX_test)"
      ],
      "metadata": {
        "colab": {
          "base_uri": "https://localhost:8080/"
        },
        "id": "uoPiI6nzhsh6",
        "outputId": "666b59b7-93bd-4593-e2eb-2c51cec70e24"
      },
      "execution_count": 24,
      "outputs": [
        {
          "output_type": "execute_result",
          "data": {
            "text/plain": [
              "array([3354.32365404, 1095.97284835, 2107.84310201, 2869.69638586,\n",
              "       4670.62896921, 3908.77568537, 2592.47037019, 2004.14247576,\n",
              "       1726.91646009, 2765.9957596 , 3250.62302778, 1449.69044442,\n",
              "       1650.42487968, 5328.7816268 ])"
            ]
          },
          "metadata": {},
          "execution_count": 24
        }
      ]
    },
    {
      "cell_type": "markdown",
      "source": [
        "Results are confirmed."
      ],
      "metadata": {
        "id": "ou8AVH5VaXbz"
      }
    }
  ]
}
