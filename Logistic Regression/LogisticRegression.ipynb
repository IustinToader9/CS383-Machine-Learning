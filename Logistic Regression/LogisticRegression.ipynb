{
  "nbformat": 4,
  "nbformat_minor": 0,
  "metadata": {
    "colab": {
      "provenance": []
    },
    "kernelspec": {
      "name": "python3",
      "display_name": "Python 3"
    },
    "language_info": {
      "name": "python"
    }
  },
  "cells": [
    {
      "cell_type": "code",
      "source": [
        "from sklearn.datasets import load_iris\n",
        "from sklearn.model_selection import train_test_split\n",
        "from sklearn.linear_model import LogisticRegression\n",
        "from sklearn.metrics import confusion_matrix\n",
        "import random\n",
        "import numpy as np\n",
        "import matplotlib.pyplot as plt\n",
        "from google.colab import files\n",
        "from math import sqrt, pi, log\n",
        "from sklearn.naive_bayes import GaussianNB"
      ],
      "metadata": {
        "id": "eI35egZIiN5O"
      },
      "execution_count": 1,
      "outputs": []
    },
    {
      "cell_type": "code",
      "source": [
        "iris = load_iris()\n",
        "X = iris.data[:, :2]\n",
        "y = (iris.target != 0) *1"
      ],
      "metadata": {
        "id": "kDplAt10iLI7"
      },
      "execution_count": 2,
      "outputs": []
    },
    {
      "cell_type": "markdown",
      "source": [
        "Calculates mean and standard deviation of the data"
      ],
      "metadata": {
        "id": "2GFrAGWcdWqW"
      }
    },
    {
      "cell_type": "code",
      "source": [
        "X_mean = np.mean(X, axis=0)\n",
        "X_std = np.std(X, axis=0, ddof=1)\n",
        "print(X_mean, X_std)"
      ],
      "metadata": {
        "colab": {
          "base_uri": "https://localhost:8080/"
        },
        "id": "F1v9gppzijhO",
        "outputId": "77bde4a0-1645-493e-cefb-6171c83164ed"
      },
      "execution_count": 3,
      "outputs": [
        {
          "output_type": "stream",
          "name": "stdout",
          "text": [
            "[5.84333333 3.05733333] [0.82806613 0.43586628]\n"
          ]
        }
      ]
    },
    {
      "cell_type": "markdown",
      "source": [
        "Standardizes the data"
      ],
      "metadata": {
        "id": "xjghJ6MAdhZ0"
      }
    },
    {
      "cell_type": "code",
      "source": [
        "sX = (X-X_mean)/X_std\n",
        "sX"
      ],
      "metadata": {
        "id": "oaiV54vnjLjc"
      },
      "execution_count": null,
      "outputs": []
    },
    {
      "cell_type": "markdown",
      "source": [
        "Adds bias feature to data"
      ],
      "metadata": {
        "id": "VUzawQQadisl"
      }
    },
    {
      "cell_type": "code",
      "source": [
        "bias = np.ones((sX.shape[0],1))\n",
        "sX = np.hstack((bias, sX))\n",
        "sX"
      ],
      "metadata": {
        "id": "Sx9WNMu4y6ur"
      },
      "execution_count": null,
      "outputs": []
    },
    {
      "cell_type": "markdown",
      "source": [
        "Defines functions to be used in Logistic Regression"
      ],
      "metadata": {
        "id": "rlJxnUfsd3kT"
      }
    },
    {
      "cell_type": "code",
      "source": [
        "#THE LOGISTIC FUNCTION\n",
        "def g(x, theta):\n",
        "  return (1/(1+np.exp(-x@theta.T))).reshape(-1,1)\n",
        "\n",
        "#THE LIKELIHOOD FUNCTION\n",
        "def likelihood(y, x, theta):\n",
        "  y=y.reshape(-1,1)\n",
        "  return (g(x, theta)**y) * (1-g(x, theta))**(1-y)\n",
        "\n",
        "#THE LOGLIKELIHOOD FUNCTION\n",
        "def loglikelihood(y, x, theta):\n",
        "  y=y.reshape(-1,1)\n",
        "  return np.log(g(x, theta)+10e-250)*y + np.log(1-g(x, theta)+10e-250)*(1-y)"
      ],
      "metadata": {
        "id": "8BJK3IIVRRf4"
      },
      "execution_count": 6,
      "outputs": []
    },
    {
      "cell_type": "markdown",
      "source": [
        "Initialize theta parameters with random values in range [-1, 1]"
      ],
      "metadata": {
        "id": "iZ_Srw_bd9uf"
      }
    },
    {
      "cell_type": "code",
      "source": [
        "theta = np.random.uniform(low=-1, high=1, size=sX.shape[1])\n",
        "theta"
      ],
      "metadata": {
        "colab": {
          "base_uri": "https://localhost:8080/"
        },
        "id": "_5R4BavsRfV-",
        "outputId": "c35d7a70-6be0-4532-bd49-fa4a08d231a5"
      },
      "execution_count": 7,
      "outputs": [
        {
          "output_type": "execute_result",
          "data": {
            "text/plain": [
              "array([ 0.55797423, -0.578137  ,  0.77968848])"
            ]
          },
          "metadata": {},
          "execution_count": 7
        }
      ]
    },
    {
      "cell_type": "code",
      "source": [
        "#COUNTER KEEPING TRACK OF ITERATIONS\n",
        "i = 0\n",
        "learn_rate = 0.01\n",
        "#NUMBER OF TEST SAMPLES\n",
        "n = sX.shape[0]\n",
        "#INITIAL LOG LIKELIHOOD OF RANDOM VALUE THETAS FOR STOP CONDITION \n",
        "cost0=loglikelihood(y, sX, theta).sum(axis=0)\n",
        "while i<10000:\n",
        "  #UPDATING THETA PARAMETERS USING GRADIENT DESCENT\n",
        "  theta = theta + (learn_rate/n)*sX.T@(y-g(sX,theta).flatten())\n",
        "  #COMPUTE LOG LIKELIHOOD WITH UPDATED THETA\n",
        "  cost1=loglikelihood(y, sX, theta).sum(axis=0)\n",
        "  #STOP CONDITION IN ABSOLUTE VALUE CHANGE OF LOSS FUNCTION\n",
        "  if abs(cost1-cost0<2**-23):\n",
        "    break\n",
        "  i+=1\n",
        "  #UPDATING LOG LIKELIHOOD OF PAST ITERATION\n",
        "  cost0=cost1\n",
        "#MAXIMUM VALUE OF LIKELIHOOD ACROSS ALL SAMPLES \n",
        "print(cost1, i)"
      ],
      "metadata": {
        "colab": {
          "base_uri": "https://localhost:8080/"
        },
        "id": "G2h9jHfBkerq",
        "outputId": "0d210ef8-2964-4d8a-ea77-b4e35636e38e"
      },
      "execution_count": 8,
      "outputs": [
        {
          "output_type": "stream",
          "name": "stdout",
          "text": [
            "[-6.98719143] 10000\n"
          ]
        }
      ]
    },
    {
      "cell_type": "code",
      "source": [
        "#RESULTED THETAS\n",
        "theta"
      ],
      "metadata": {
        "colab": {
          "base_uri": "https://localhost:8080/"
        },
        "id": "ePStKo6N1Jcq",
        "outputId": "36affeed-1948-418e-88c8-51f06f52484c"
      },
      "execution_count": 9,
      "outputs": [
        {
          "output_type": "execute_result",
          "data": {
            "text/plain": [
              "array([ 2.13932627,  3.76647847, -2.55256341])"
            ]
          },
          "metadata": {},
          "execution_count": 9
        }
      ]
    },
    {
      "cell_type": "markdown",
      "source": [
        "Verification using LogisticRegression from sklearn"
      ],
      "metadata": {
        "id": "RJbkRhb0nYBW"
      }
    },
    {
      "cell_type": "code",
      "source": [
        "#SET FIT_INTERCEPT TO FALSE TO ACCOUNT FOR OUR BIAS FEATURE\n",
        "lgr = LogisticRegression(penalty='none', solver='lbfgs', max_iter=10000, fit_intercept=False)\n",
        "reg = lgr.fit(sX, y)\n",
        "reg_theta = reg.coef_.flatten()\n",
        "#MAXIMUM VALUE OF LIKELIHOOD ACROSS ALL SAMPLES \n",
        "loglikelihood(y, sX, reg_theta).sum(axis=0)"
      ],
      "metadata": {
        "colab": {
          "base_uri": "https://localhost:8080/"
        },
        "id": "uSnHyBeRBF4r",
        "outputId": "4ef766da-7a07-4156-d4cf-794b8cf3414e"
      },
      "execution_count": 10,
      "outputs": [
        {
          "output_type": "execute_result",
          "data": {
            "text/plain": [
              "array([-0.00015166])"
            ]
          },
          "metadata": {},
          "execution_count": 10
        }
      ]
    },
    {
      "cell_type": "code",
      "source": [
        "reg_theta"
      ],
      "metadata": {
        "colab": {
          "base_uri": "https://localhost:8080/"
        },
        "id": "PpEJW1zqx3EW",
        "outputId": "21412e32-4d06-4b44-a11c-507ace3aa516"
      },
      "execution_count": 11,
      "outputs": [
        {
          "output_type": "execute_result",
          "data": {
            "text/plain": [
              "array([ 49.26318048,  69.73722961, -30.90205269])"
            ]
          },
          "metadata": {},
          "execution_count": 11
        }
      ]
    },
    {
      "cell_type": "code",
      "source": [
        "#PLOTTING X2 AS A FUNCTION OF X1\n",
        "plt.scatter(sX[:,1], sX[:,2], c=y)\n",
        "#PLOTTING THE DECISION BOUNDARY FROM FORMULA X@THETA = 0\n",
        "plt.plot(sX[:,1], -theta[1]/theta[2]*sX[:,1]-theta[0]/theta[1], label='Decision Boundary')\n",
        "plt.legend()\n",
        "plt.title('Our method')\n",
        "plt.show()"
      ],
      "metadata": {
        "id": "DK0vvoq82pim",
        "colab": {
          "base_uri": "https://localhost:8080/",
          "height": 281
        },
        "outputId": "11d34e2a-1d8d-4b48-b54d-35d54a8147e0"
      },
      "execution_count": 12,
      "outputs": [
        {
          "output_type": "display_data",
          "data": {
            "text/plain": [
              "<Figure size 432x288 with 1 Axes>"
            ],
            "image/png": "[encoded data removed]"
          },
          "metadata": {
            "needs_background": "light"
          }
        }
      ]
    },
    {
      "cell_type": "code",
      "source": [
        "plt.scatter(sX[:,1], sX[:,2], c=y)\n",
        "plt.plot(sX[:,1], -reg_theta[1]/reg_theta[2]*sX[:,1]-reg_theta[0]/reg_theta[1], label='Decision Boundary')\n",
        "plt.legend()\n",
        "plt.title('Built-in method')\n",
        "plt.show()"
      ],
      "metadata": {
        "id": "01fMs3GF88dp",
        "colab": {
          "base_uri": "https://localhost:8080/",
          "height": 281
        },
        "outputId": "689d538b-8be6-464f-b227-8970ce848340"
      },
      "execution_count": 13,
      "outputs": [
        {
          "output_type": "display_data",
          "data": {
            "text/plain": [
              "<Figure size 432x288 with 1 Axes>"
            ],
            "image/png": "[encoded data removed]"
          },
          "metadata": {
            "needs_background": "light"
          }
        }
      ]
    },
    {
      "cell_type": "markdown",
      "source": [
        "Plots are similar enough to verify our results as correct"
      ],
      "metadata": {
        "id": "623APNEapJqw"
      }
    }
  ]
}
