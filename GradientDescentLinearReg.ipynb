{
  "nbformat": 4,
  "nbformat_minor": 0,
  "metadata": {
    "colab": {
      "provenance": []
    },
    "kernelspec": {
      "name": "python3",
      "display_name": "Python 3"
    },
    "language_info": {
      "name": "python"
    }
  },
  "cells": [
    {
      "cell_type": "code",
      "execution_count": 1,
      "metadata": {
        "id": "elNCiskK1VEJ"
      },
      "outputs": [],
      "source": [
        "import numpy as np\n",
        "import matplotlib.pyplot as plt\n",
        "import sklearn.linear_model\n",
        "from google.colab import files\n",
        "import random\n",
        "from sklearn.model_selection import train_test_split\n",
        "from math import ceil"
      ]
    },
    {
      "cell_type": "markdown",
      "source": [
        "Function for uploading file to Google Colab"
      ],
      "metadata": {
        "id": "iPLshFwb1cTc"
      }
    },
    {
      "cell_type": "code",
      "source": [
        "files.upload()"
      ],
      "metadata": {
        "colab": {
          "base_uri": "https://localhost:8080/",
          "height": 129
        },
        "outputId": "55376696-4b76-45b7-99d6-b3e118294782",
        "id": "MEndF29A1hwV"
      },
      "execution_count": 2,
      "outputs": [
        {
          "output_type": "display_data",
          "data": {
            "text/plain": [
              "<IPython.core.display.HTML object>"
            ],
            "text/html": [
              "\n",
              "     <input type=\"file\" id=\"files-861c8d54-278a-41df-83a6-c18c75f4dee4\" name=\"files[]\" multiple disabled\n",
              "        style=\"border:none\" />\n",
              "     <output id=\"result-861c8d54-278a-41df-83a6-c18c75f4dee4\">\n",
              "      Upload widget is only available when the cell has been executed in the\n",
              "      current browser session. Please rerun this cell to enable.\n",
              "      </output>\n",
              "      <script>// Copyright 2017 Google LLC\n",
              "//\n",
              "// Licensed under the Apache License, Version 2.0 (the \"License\");\n",
              "// you may not use this file except in compliance with the License.\n",
              "// You may obtain a copy of the License at\n",
              "//\n",
              "//      http://www.apache.org/licenses/LICENSE-2.0\n",
              "//\n",
              "// Unless required by applicable law or agreed to in writing, software\n",
              "// distributed under the License is distributed on an \"AS IS\" BASIS,\n",
              "// WITHOUT WARRANTIES OR CONDITIONS OF ANY KIND, either express or implied.\n",
              "// See the License for the specific language governing permissions and\n",
              "// limitations under the License.\n",
              "\n",
              "/**\n",
              " * @fileoverview Helpers for google.colab Python module.\n",
              " */\n",
              "(function(scope) {\n",
              "function span(text, styleAttributes = {}) {\n",
              "  const element = document.createElement('span');\n",
              "  element.textContent = text;\n",
              "  for (const key of Object.keys(styleAttributes)) {\n",
              "    element.style[key] = styleAttributes[key];\n",
              "  }\n",
              "  return element;\n",
              "}\n",
              "\n",
              "// Max number of bytes which will be uploaded at a time.\n",
              "const MAX_PAYLOAD_SIZE = 100 * 1024;\n",
              "\n",
              "function _uploadFiles(inputId, outputId) {\n",
              "  const steps = uploadFilesStep(inputId, outputId);\n",
              "  const outputElement = document.getElementById(outputId);\n",
              "  // Cache steps on the outputElement to make it available for the next call\n",
              "  // to uploadFilesContinue from Python.\n",
              "  outputElement.steps = steps;\n",
              "\n",
              "  return _uploadFilesContinue(outputId);\n",
              "}\n",
              "\n",
              "// This is roughly an async generator (not supported in the browser yet),\n",
              "// where there are multiple asynchronous steps and the Python side is going\n",
              "// to poll for completion of each step.\n",
              "// This uses a Promise to block the python side on completion of each step,\n",
              "// then passes the result of the previous step as the input to the next step.\n",
              "function _uploadFilesContinue(outputId) {\n",
              "  const outputElement = document.getElementById(outputId);\n",
              "  const steps = outputElement.steps;\n",
              "\n",
              "  const next = steps.next(outputElement.lastPromiseValue);\n",
              "  return Promise.resolve(next.value.promise).then((value) => {\n",
              "    // Cache the last promise value to make it available to the next\n",
              "    // step of the generator.\n",
              "    outputElement.lastPromiseValue = value;\n",
              "    return next.value.response;\n",
              "  });\n",
              "}\n",
              "\n",
              "/**\n",
              " * Generator function which is called between each async step of the upload\n",
              " * process.\n",
              " * @param {string} inputId Element ID of the input file picker element.\n",
              " * @param {string} outputId Element ID of the output display.\n",
              " * @return {!Iterable<!Object>} Iterable of next steps.\n",
              " */\n",
              "function* uploadFilesStep(inputId, outputId) {\n",
              "  const inputElement = document.getElementById(inputId);\n",
              "  inputElement.disabled = false;\n",
              "\n",
              "  const outputElement = document.getElementById(outputId);\n",
              "  outputElement.innerHTML = '';\n",
              "\n",
              "  const pickedPromise = new Promise((resolve) => {\n",
              "    inputElement.addEventListener('change', (e) => {\n",
              "      resolve(e.target.files);\n",
              "    });\n",
              "  });\n",
              "\n",
              "  const cancel = document.createElement('button');\n",
              "  inputElement.parentElement.appendChild(cancel);\n",
              "  cancel.textContent = 'Cancel upload';\n",
              "  const cancelPromise = new Promise((resolve) => {\n",
              "    cancel.onclick = () => {\n",
              "      resolve(null);\n",
              "    };\n",
              "  });\n",
              "\n",
              "  // Wait for the user to pick the files.\n",
              "  const files = yield {\n",
              "    promise: Promise.race([pickedPromise, cancelPromise]),\n",
              "    response: {\n",
              "      action: 'starting',\n",
              "    }\n",
              "  };\n",
              "\n",
              "  cancel.remove();\n",
              "\n",
              "  // Disable the input element since further picks are not allowed.\n",
              "  inputElement.disabled = true;\n",
              "\n",
              "  if (!files) {\n",
              "    return {\n",
              "      response: {\n",
              "        action: 'complete',\n",
              "      }\n",
              "    };\n",
              "  }\n",
              "\n",
              "  for (const file of files) {\n",
              "    const li = document.createElement('li');\n",
              "    li.append(span(file.name, {fontWeight: 'bold'}));\n",
              "    li.append(span(\n",
              "        `(${file.type || 'n/a'}) - ${file.size} bytes, ` +\n",
              "        `last modified: ${\n",
              "            file.lastModifiedDate ? file.lastModifiedDate.toLocaleDateString() :\n",
              "                                    'n/a'} - `));\n",
              "    const percent = span('0% done');\n",
              "    li.appendChild(percent);\n",
              "\n",
              "    outputElement.appendChild(li);\n",
              "\n",
              "    const fileDataPromise = new Promise((resolve) => {\n",
              "      const reader = new FileReader();\n",
              "      reader.onload = (e) => {\n",
              "        resolve(e.target.result);\n",
              "      };\n",
              "      reader.readAsArrayBuffer(file);\n",
              "    });\n",
              "    // Wait for the data to be ready.\n",
              "    let fileData = yield {\n",
              "      promise: fileDataPromise,\n",
              "      response: {\n",
              "        action: 'continue',\n",
              "      }\n",
              "    };\n",
              "\n",
              "    // Use a chunked sending to avoid message size limits. See b/62115660.\n",
              "    let position = 0;\n",
              "    do {\n",
              "      const length = Math.min(fileData.byteLength - position, MAX_PAYLOAD_SIZE);\n",
              "      const chunk = new Uint8Array(fileData, position, length);\n",
              "      position += length;\n",
              "\n",
              "      const base64 = btoa(String.fromCharCode.apply(null, chunk));\n",
              "      yield {\n",
              "        response: {\n",
              "          action: 'append',\n",
              "          file: file.name,\n",
              "          data: base64,\n",
              "        },\n",
              "      };\n",
              "\n",
              "      let percentDone = fileData.byteLength === 0 ?\n",
              "          100 :\n",
              "          Math.round((position / fileData.byteLength) * 100);\n",
              "      percent.textContent = `${percentDone}% done`;\n",
              "\n",
              "    } while (position < fileData.byteLength);\n",
              "  }\n",
              "\n",
              "  // All done.\n",
              "  yield {\n",
              "    response: {\n",
              "      action: 'complete',\n",
              "    }\n",
              "  };\n",
              "}\n",
              "\n",
              "scope.google = scope.google || {};\n",
              "scope.google.colab = scope.google.colab || {};\n",
              "scope.google.colab._files = {\n",
              "  _uploadFiles,\n",
              "  _uploadFilesContinue,\n",
              "};\n",
              "})(self);\n",
              "</script> "
            ]
          },
          "metadata": {}
        },
        {
          "output_type": "stream",
          "name": "stdout",
          "text": [
            "Saving x06Simple(1).csv to x06Simple(1) (1).csv\n"
          ]
        },
        {
          "output_type": "execute_result",
          "data": {
            "text/plain": [
              "{'x06Simple(1).csv': b'Index,Age,Temp of Water,Length of Fish\\r\\n1,14,25,620\\r\\n2,28,25,1315\\r\\n3,41,25,2120\\r\\n4,55,25,2600\\r\\n5,69,25,3110\\r\\n6,83,25,3535\\r\\n7,97,25,3935\\r\\n8,111,25,4465\\r\\n9,125,25,4530\\r\\n10,139,25,4570\\r\\n11,153,25,4600\\r\\n12,14,27,625\\r\\n13,28,27,1215\\r\\n14,41,27,2110\\r\\n15,55,27,2805\\r\\n16,69,27,3255\\r\\n17,83,27,4015\\r\\n18,97,27,4315\\r\\n19,111,27,4495\\r\\n20,125,27,4535\\r\\n21,139,27,4600\\r\\n22,153,27,4600\\r\\n23,14,29,590\\r\\n24,28,29,1305\\r\\n25,41,29,2140\\r\\n26,55,29,2890\\r\\n27,69,29,3920\\r\\n28,83,29,3920\\r\\n29,97,29,4515\\r\\n30,111,29,4520\\r\\n31,125,29,4525\\r\\n32,139,29,4565\\r\\n33,153,29,4566\\r\\n34,14,31,590\\r\\n35,28,31,1205\\r\\n36,41,31,1915\\r\\n37,55,31,2140\\r\\n38,69,31,2710\\r\\n39,83,31,3020\\r\\n40,97,31,3030\\r\\n41,111,31,3040\\r\\n42,125,31,3180\\r\\n43,139,31,3257\\r\\n44,153,31,3214\\r\\n'}"
            ]
          },
          "metadata": {},
          "execution_count": 2
        }
      ]
    },
    {
      "cell_type": "markdown",
      "source": [
        "Random number generator, random integer in range, and random shuffle functions"
      ],
      "metadata": {
        "id": "AOVYmbA01pbj"
      }
    },
    {
      "cell_type": "code",
      "source": [
        "#THE RANDOM NUMBER GENERATOR FUNCTION IS BY DEFAULT SEEDED WITH 0 IN THE FUNCTION\n",
        "#DEFINITION\n",
        "def r(seed=[0], m=2**32, a=1664525, c=1013904223):\n",
        "  seed[0] = (a*seed[0]+c)%m\n",
        "  return seed[0]\n",
        "\n",
        "def randint(a, b):\n",
        "  return int(a+(1+b-a)*r()/2**32)\n",
        "\n",
        "def random_shuffle(data):\n",
        "  len_data = data.shape[0]\n",
        "  for i in range(len_data-1,0,-1):\n",
        "    j = randint(0,i+1)\n",
        "    data[[i,j]] = data[[j,i]]\n",
        "  return data"
      ],
      "metadata": {
        "id": "oslWD81R1tGM"
      },
      "execution_count": 3,
      "outputs": []
    },
    {
      "cell_type": "markdown",
      "source": [
        "Reading the CSV file, skipping the header information, and removing the index column."
      ],
      "metadata": {
        "id": "vNpbBsIFGjVh"
      }
    },
    {
      "cell_type": "code",
      "source": [
        "datax06_4 = np.genfromtxt('x06Simple(1).csv', delimiter=',', skip_header=1, dtype=int)\n",
        "datax06_4 = np.delete(datax06_4, 0, 1)\n",
        "datax06_4"
      ],
      "metadata": {
        "id": "YY25RB4AGkLm"
      },
      "execution_count": null,
      "outputs": []
    },
    {
      "cell_type": "markdown",
      "source": [
        "Randomizing the data."
      ],
      "metadata": {
        "id": "iK1Wtv7XGovr"
      }
    },
    {
      "cell_type": "code",
      "source": [
        "datax06_4 = random_shuffle(datax06_4)\n",
        "datax06_4"
      ],
      "metadata": {
        "id": "YfQ1a2QcGsVv"
      },
      "execution_count": null,
      "outputs": []
    },
    {
      "cell_type": "markdown",
      "source": [
        "Separating dataset into X and Y variables"
      ],
      "metadata": {
        "id": "lNvsNMrmG1KG"
      }
    },
    {
      "cell_type": "code",
      "source": [
        "X06_4 = datax06_4[:,:-1]\n",
        "Y06_4 = datax06_4[:,-1]"
      ],
      "metadata": {
        "id": "yTNtpQIzG3a6"
      },
      "execution_count": 6,
      "outputs": []
    },
    {
      "cell_type": "code",
      "source": [
        "Y06_4"
      ],
      "metadata": {
        "colab": {
          "base_uri": "https://localhost:8080/"
        },
        "id": "HYlrMiszMQWd",
        "outputId": "471c8db1-1bc5-44c4-9bfa-e34d283bfa9c"
      },
      "execution_count": 7,
      "outputs": [
        {
          "output_type": "execute_result",
          "data": {
            "text/plain": [
              "array([2805, 4566, 3257, 3920, 2600, 1315, 4525,  590, 3935, 2140, 4600,\n",
              "       3110, 4535, 3180, 2120, 4465,  625,  590, 4315, 4520, 3535, 4570,\n",
              "       1305, 2710, 4015, 3214, 4530, 4565, 3030,  620, 3040, 1205, 2890,\n",
              "       3920, 4600, 4495, 3020, 2110, 2140, 3255, 4515, 1915, 1215, 4600])"
            ]
          },
          "metadata": {},
          "execution_count": 7
        }
      ]
    },
    {
      "cell_type": "markdown",
      "source": [
        "Splitting the data into training and testing sets on a 2/3 - 1/3 basis with rounding-up."
      ],
      "metadata": {
        "id": "99mSHXmIG_wj"
      }
    },
    {
      "cell_type": "code",
      "source": [
        "X_train_4 = X06_4[:ceil(2/3*datax06_4.shape[0]),:]\n",
        "X_test_4 = X06_4[ceil(2/3*datax06_4.shape[0]):,:]\n",
        "Y_train_4 = Y06_4[:ceil(2/3*datax06_4.shape[0])]\n",
        "Y_test_4 = Y06_4[ceil(2/3*datax06_4.shape[0]):]"
      ],
      "metadata": {
        "id": "Vs15HHtXG-Ns"
      },
      "execution_count": 8,
      "outputs": []
    },
    {
      "cell_type": "markdown",
      "source": [
        "Calculating the mean and standard deviation of both features from the training dataset."
      ],
      "metadata": {
        "id": "PkuO3pM0HIHg"
      }
    },
    {
      "cell_type": "code",
      "source": [
        "X_train_mean_4 = np.mean(X_train_4, axis=0)\n",
        "X_train_std_4 = np.std(X_train_4, axis=0, ddof=1)\n",
        "print(X_train_mean_4, X_train_std_4)"
      ],
      "metadata": {
        "colab": {
          "base_uri": "https://localhost:8080/"
        },
        "id": "Y_d7zDoaHQaR",
        "outputId": "a64cc1b8-1145-4b8d-eb1f-138c6b32ac63"
      },
      "execution_count": 9,
      "outputs": [
        {
          "output_type": "stream",
          "name": "stdout",
          "text": [
            "[86.         27.73333333] [46.55289909  2.37709375]\n"
          ]
        }
      ]
    },
    {
      "cell_type": "markdown",
      "source": [
        "Standardizing the data using the computed mean and standard deviation."
      ],
      "metadata": {
        "id": "xdQH4uhPHX06"
      }
    },
    {
      "cell_type": "code",
      "source": [
        "sX_train_4 = (X_train_4-X_train_mean_4)/X_train_std_4\n",
        "sX_test_4 = (X_test_4-X_train_mean_4)/X_train_std_4"
      ],
      "metadata": {
        "id": "2DF_s29ZHZ2y"
      },
      "execution_count": 10,
      "outputs": []
    },
    {
      "cell_type": "markdown",
      "source": [
        "Adding the bias feature"
      ],
      "metadata": {
        "id": "gnGQATVoHjwC"
      }
    },
    {
      "cell_type": "code",
      "source": [
        "bias_4 = np.ones((sX_train_4.shape[0],1))\n",
        "bias_sX_train_4 = np.hstack((bias_4, sX_train_4))\n",
        "\n",
        "bias_test_4 = np.ones((sX_test_4.shape[0],1))\n",
        "bias_sX_test_4 = np.hstack((bias_test_4, sX_test_4))"
      ],
      "metadata": {
        "id": "KYkR8NFOHlz0"
      },
      "execution_count": 11,
      "outputs": []
    },
    {
      "cell_type": "markdown",
      "source": [
        "Initializing the learn rate and theta array with random values in range [-1, 1]"
      ],
      "metadata": {
        "id": "qlKQolz7HxTc"
      }
    },
    {
      "cell_type": "code",
      "source": [
        "learn_rate=0.01\n",
        "theta4=np.random.uniform(low=-1, high=1, size=bias_sX_train_4.shape[1])\n",
        "theta4"
      ],
      "metadata": {
        "colab": {
          "base_uri": "https://localhost:8080/"
        },
        "id": "nxNDtlBEJbBG",
        "outputId": "d5ecb9a9-849d-4af2-c21b-1b3317c0b1cb"
      },
      "execution_count": 12,
      "outputs": [
        {
          "output_type": "execute_result",
          "data": {
            "text/plain": [
              "array([-0.92589779,  0.38095103, -0.43809261])"
            ]
          },
          "metadata": {},
          "execution_count": 12
        }
      ]
    },
    {
      "cell_type": "code",
      "source": [
        "Y_train_4"
      ],
      "metadata": {
        "colab": {
          "base_uri": "https://localhost:8080/"
        },
        "id": "TmJertQCMcG9",
        "outputId": "9abe4db7-61ce-4181-a375-f483050b46bc"
      },
      "execution_count": 13,
      "outputs": [
        {
          "output_type": "execute_result",
          "data": {
            "text/plain": [
              "array([2805, 4566, 3257, 3920, 2600, 1315, 4525,  590, 3935, 2140, 4600,\n",
              "       3110, 4535, 3180, 2120, 4465,  625,  590, 4315, 4520, 3535, 4570,\n",
              "       1305, 2710, 4015, 3214, 4530, 4565, 3030,  620])"
            ]
          },
          "metadata": {},
          "execution_count": 13
        }
      ]
    },
    {
      "cell_type": "code",
      "source": [
        "bias_sX_train_4.T.shape"
      ],
      "metadata": {
        "colab": {
          "base_uri": "https://localhost:8080/"
        },
        "id": "wxKtV9rdUP0R",
        "outputId": "c9daec53-1216-4ed6-8350-a3aae8c6bcdd"
      },
      "execution_count": 14,
      "outputs": [
        {
          "output_type": "execute_result",
          "data": {
            "text/plain": [
              "(3, 30)"
            ]
          },
          "metadata": {},
          "execution_count": 14
        }
      ]
    },
    {
      "cell_type": "code",
      "source": [
        "(bias_sX_train_4 @ theta4).shape"
      ],
      "metadata": {
        "colab": {
          "base_uri": "https://localhost:8080/"
        },
        "id": "DK9LS9yeVsRk",
        "outputId": "98dcfa1b-10bf-4720-f367-c70c58f11b5d"
      },
      "execution_count": 15,
      "outputs": [
        {
          "output_type": "execute_result",
          "data": {
            "text/plain": [
              "(30,)"
            ]
          },
          "metadata": {},
          "execution_count": 15
        }
      ]
    },
    {
      "cell_type": "code",
      "source": [
        "Y_train_4.shape"
      ],
      "metadata": {
        "id": "cmxRDam-WDQF",
        "outputId": "7f649d53-2860-4aa8-db3c-c8effcc7906d",
        "colab": {
          "base_uri": "https://localhost:8080/"
        }
      },
      "execution_count": 16,
      "outputs": [
        {
          "output_type": "execute_result",
          "data": {
            "text/plain": [
              "(30,)"
            ]
          },
          "metadata": {},
          "execution_count": 16
        }
      ]
    },
    {
      "cell_type": "code",
      "source": [
        "#COMPUTING THE INITIAL RMSE OF THE THETA WITH RANDOM VALUES FOR THE STOP CONDITION\n",
        "rmse_init=np.sqrt(np.square(np.subtract(Y_train_4, bias_sX_train_4 @ theta4).mean()))\n",
        "#EMPTY ARRAY FOR THE RMSE OF THE TESTING AND TRAINING SETS\n",
        "rmse_test_arr=np.array([])\n",
        "rmse_train_arr=np.array([])\n",
        "#COUNTER KEEPING TRACK OF ITERATIONS\n",
        "i = 0\n",
        "while i<1000:\n",
        "  #UPDATING THETA PARAMETERS USING BATCH GRADIENT DESCENT\n",
        "  theta4 = theta4-(learn_rate/bias_sX_train_4.shape[0])*bias_sX_train_4.T @ np.subtract(bias_sX_train_4 @ theta4, Y_train_4)\n",
        "  #COMPUTING RMSE OF TRAINING DATA\n",
        "  rmse4=np.sqrt(np.square(np.subtract(Y_train_4, bias_sX_train_4 @ theta4)).mean())\n",
        "  #COMPUTING RMSE OF TESTING DATA\n",
        "  rmse_test=np.sqrt(np.square(np.subtract(Y_test_4, bias_sX_test_4 @ theta4)).mean())\n",
        "  #APPENDING TO THE ARRAYS OF RMSE FOR BOTH TRAINING AND TESTING DATA\n",
        "  rmse_train_arr=np.append(rmse_train_arr, rmse4)\n",
        "  rmse_test_arr = np.append(rmse_test_arr, rmse_test)\n",
        "  #STOP CONDITION OF PERCENTAGE CHANGE IN RMSE IS SMALLER THAN GIVEN BOUNDARY\n",
        "  if abs((rmse4-rmse_init)/rmse_init) < 2**-23:\n",
        "    break\n",
        "  #UPDATING RMSE OF PAST TRAINING ITERATION\n",
        "  rmse_init=rmse4\n",
        "  i+=1"
      ],
      "metadata": {
        "id": "6k8MWrH2Zoeh"
      },
      "execution_count": 17,
      "outputs": []
    },
    {
      "cell_type": "markdown",
      "source": [
        "Theta parameters and RMSE of testing data after gradient descent"
      ],
      "metadata": {
        "id": "GKKLNLJ_M7U_"
      }
    },
    {
      "cell_type": "code",
      "source": [
        "theta4"
      ],
      "metadata": {
        "colab": {
          "base_uri": "https://localhost:8080/"
        },
        "id": "Y8izTPefMSev",
        "outputId": "25d56a9c-ac27-454a-fcf8-d3897d75a42d"
      },
      "execution_count": 18,
      "outputs": [
        {
          "output_type": "execute_result",
          "data": {
            "text/plain": [
              "array([3125.61721587, 1265.29060324, -328.29122066])"
            ]
          },
          "metadata": {},
          "execution_count": 18
        }
      ]
    },
    {
      "cell_type": "code",
      "source": [
        "np.sqrt(np.square(np.subtract(Y_test_4, bias_sX_test_4 @ theta4)).mean())"
      ],
      "metadata": {
        "colab": {
          "base_uri": "https://localhost:8080/"
        },
        "id": "n2ec0w3egO0A",
        "outputId": "df57baf2-d5d1-4467-9e75-b9f4a771da8b"
      },
      "execution_count": 19,
      "outputs": [
        {
          "output_type": "execute_result",
          "data": {
            "text/plain": [
              "615.9026922239779"
            ]
          },
          "metadata": {},
          "execution_count": 19
        }
      ]
    },
    {
      "cell_type": "markdown",
      "source": [
        "The final model is:\n",
        "\n",
        "$y = 3107.07277973 + 1140.68598726x_1 - 320.73786613x_2 $"
      ],
      "metadata": {
        "id": "VeL9YHutNVXh"
      }
    },
    {
      "cell_type": "markdown",
      "source": [
        "Comparing results with closed form calculation"
      ],
      "metadata": {
        "id": "LfEsvwAJNAIR"
      }
    },
    {
      "cell_type": "code",
      "source": [
        "closedf=sklearn.linear_model.LinearRegression().fit(bias_sX_train_4, Y_train_4)\n",
        "print(closedf.coef_)\n",
        "print(closedf.intercept_)\n",
        "y_pred_4 = closedf.predict(bias_sX_test_4)\n",
        "print(np.sqrt(np.square(np.subtract(Y_test_4, y_pred_4)).mean()))"
      ],
      "metadata": {
        "colab": {
          "base_uri": "https://localhost:8080/"
        },
        "id": "hXKWborvJ2XK",
        "outputId": "4838ea25-f4c6-4a73-e55a-4d6afcb8760f"
      },
      "execution_count": 20,
      "outputs": [
        {
          "output_type": "stream",
          "name": "stdout",
          "text": [
            "[   0.         1266.6599659  -329.49611507]\n",
            "3126.9\n",
            "616.0862025884471\n"
          ]
        }
      ]
    },
    {
      "cell_type": "markdown",
      "source": [
        "Results confirmed"
      ],
      "metadata": {
        "id": "OnCP7g36NIVF"
      }
    },
    {
      "cell_type": "markdown",
      "source": [
        "Plotting RMSE of training and testing sets as a function of number of iterations"
      ],
      "metadata": {
        "id": "epw4l2a9NMYc"
      }
    },
    {
      "cell_type": "code",
      "source": [
        "plt.plot(np.add(np.arange(i+1),1), rmse_train_arr, label='Training set RMSE')\n",
        "plt.plot(np.add(np.arange(i+1),1), rmse_test_arr, label='Testing set RMSE')\n",
        "plt.xlim(0,)\n",
        "plt.legend()\n",
        "plt.show()"
      ],
      "metadata": {
        "id": "SCdqfT6OcLNd",
        "colab": {
          "base_uri": "https://localhost:8080/",
          "height": 268
        },
        "outputId": "5b00fa44-39ea-41a7-d039-280bce34652d"
      },
      "execution_count": 21,
      "outputs": [
        {
          "output_type": "display_data",
          "data": {
            "text/plain": [
              "<Figure size 432x288 with 1 Axes>"
            ],
            "image/png": "[encoded data removed]"
          },
          "metadata": {
            "needs_background": "light"
          }
        }
      ]
    }
  ]
}